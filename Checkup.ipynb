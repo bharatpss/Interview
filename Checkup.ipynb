{
 "cells": [
  {
   "cell_type": "code",
   "execution_count": 7,
   "metadata": {},
   "outputs": [
    {
     "name": "stdout",
     "output_type": "stream",
     "text": [
      "------------------------------------------------------------------------\n",
      "                    Job Tasks Optimization Program:                     \n",
      "------------------------------------------------------------------------\n",
      "\n",
      "\n",
      "------------------------------------------------------------------------\n",
      "|          Now this Program can Optimize N number of Jobs.             |\n",
      "|              Please Select the xls format file:                      |\n",
      "------------------------------------------------------------------------\n",
      "1821 => 33\n",
      "1298 => 32\n",
      "1000 => 30\n",
      "828 => 25\n",
      "721 => 22\n",
      "712m => 12\n",
      "744 => 4\n",
      "1356 => 4\n",
      "1567 => 1\n",
      "1826 => 1\n",
      "------------------------------------------------------------------------\n",
      "Unique count of tasks 83\n",
      "------------------------------------------------------------------------\n"
     ]
    }
   ],
   "source": [
    "import time\n",
    "import pandas as pd\n",
    "import tkinter as tk\n",
    "from tkinter import filedialog\n",
    "from itertools import permutations\n",
    "from collections import deque\n",
    "global que\n",
    "\n",
    "print(\"------------------------------------------------------------------------\")\n",
    "print(\"                    Job Tasks Optimization Program:                     \")\n",
    "print(\"------------------------------------------------------------------------\")\n",
    "print(\"\\n\")\n",
    "print(\"------------------------------------------------------------------------\")\n",
    "print(\"|          Now this Program can Optimize N number of Jobs.             |\")\n",
    "print(\"|              Please Select the xls format file:                      |\")\n",
    "print(\"------------------------------------------------------------------------\")\n",
    "root = tk.Tk()\n",
    "root.withdraw()\n",
    "\n",
    "file_path = filedialog.askopenfilename()\n",
    "\n",
    "#print(pd.read_csv(file_path).head())\n",
    "#file = pd.ExcelFile(file_path )\n",
    "dataFrame = pd.read_excel(file_path, keep_default_na=False)\n",
    "\n",
    "Data={}\n",
    "\n",
    "for i in dataFrame.columns[3:-1]:\n",
    "    Data[i] = list(dataFrame[dataFrame[i]==1]['Component_Desc'][:-1])\n",
    "\n",
    "\n",
    "'''\n",
    "# to read all sheets to a map\n",
    "Data = {}\n",
    "for sheet_name in file.sheet_names:\n",
    "    Data[sheet_name] = file.parse(sheet_name, header=None, usecols=[0], index_col=False).iloc[:,0].to_list()\n",
    "\n",
    "#print(file.parse('A', header=None, usecols=[0], index_col=False).iloc[:,0].to_list())\n",
    "\n",
    "'''\n",
    "    \n",
    "\n",
    "'''print(Data)\n",
    "print(len(Data))\n",
    "'''\n",
    "result = {}\n",
    "\n",
    "for key,value in Data.items():\n",
    "    if value not in result.values():\n",
    "        result[key] = value\n",
    "        \n",
    "        \n",
    "for key,val in result.items():\n",
    "    print(key, \"=>\", len(val)) \n",
    "\n",
    "\n",
    "# for key,val in Data.items():\n",
    "#     print(key, \"=>\", len(val)) \n",
    "    \n",
    "print(\"------------------------------------------------------------------------\")\n",
    "l =[]\n",
    "#newlist = map(str.upper, oldlist)\n",
    "for i in Data.values():\n",
    "    l.extend(i)\n",
    "    \n",
    "print(\"Unique count of tasks\", len(set(l)))\n",
    "print(\"------------------------------------------------------------------------\")"
   ]
  },
  {
   "cell_type": "code",
   "execution_count": null,
   "metadata": {
    "scrolled": true
   },
   "outputs": [],
   "source": [
    "c = 0\n",
    "\n",
    "for k, v in Data.items():\n",
    "    print(\"=>\",k)\n",
    "    for j,m in Data.items():\n",
    "        #print(j)\n",
    "        print(len(set(v).intersection(set(m))))\n",
    "                "
   ]
  },
  {
   "cell_type": "code",
   "execution_count": null,
   "metadata": {},
   "outputs": [],
   "source": [
    "#Data"
   ]
  },
  {
   "cell_type": "code",
   "execution_count": 8,
   "metadata": {
    "scrolled": true
   },
   "outputs": [
    {
     "name": "stdout",
     "output_type": "stream",
     "text": [
      "Enter Feeder size (Queue Size) :56\n",
      "\n",
      "\n"
     ]
    }
   ],
   "source": [
    "max_size = int(input(\"Enter Feeder size (Queue Size) :\"))\n",
    "que = deque(maxlen= max_size)\n",
    "print(\"\\n\")"
   ]
  },
  {
   "cell_type": "code",
   "execution_count": 9,
   "metadata": {},
   "outputs": [],
   "source": [
    "class JobTask():\n",
    "    \"This is Job Task Management class\"\n",
    "    que.clear()\n",
    "    count = 0\n",
    "    def __init__(self,*args):\n",
    "        self.args = args\n",
    "    \n",
    "    #def cal(self,z):\n",
    "        # From previous funtion of O(n2)\n",
    "        \n",
    "    \n",
    "    def opt_function(self, *args):\n",
    "        que.extend(self.args[0])\n",
    "        #complexsity O(n) depending on Argument length.\n",
    "        for j in self.args[1:len(self.args)]:\n",
    "            for l in j:\n",
    "                if l not in list(que):\n",
    "                    if len(que) < max_size:\n",
    "                        que.append(l)\n",
    "                        self.count +=1\n",
    "                    #print(j)\n",
    "                    #print('Queue',list(que))\n",
    "                    else:\n",
    "                        que.popleft()\n",
    "                        que.append(l)\n",
    "                        self.count +=2\n",
    "                    #print(j)\n",
    "                    #print('Queue',list(que))\n",
    "                else:\n",
    "                    pass\n",
    "        \n",
    "        return self.count\n",
    "        \n",
    "        "
   ]
  },
  {
   "cell_type": "code",
   "execution_count": 10,
   "metadata": {},
   "outputs": [],
   "source": [
    "import threading\n",
    "import numpy as np\n",
    "global result1, result2, result3, result4\n",
    "\n",
    "def fun1(permList,permString, result, lock):\n",
    "    for perm, stri in zip(permList, permString):\n",
    "        lock.acquire()\n",
    "        #print(\"thread 1\")#stri,\"*\" *5 ,perm)\n",
    "        x = []\n",
    "        jb = JobTask(*perm)\n",
    "        r = jb.opt_function()\n",
    "        x.append(stri)\n",
    "        #x.extend(perm)\n",
    "        x.append(r)\n",
    "        result.append(x)\n",
    "        del jb\n",
    "        lock.release()\n",
    "    return result"
   ]
  },
  {
   "cell_type": "code",
   "execution_count": 11,
   "metadata": {},
   "outputs": [
    {
     "name": "stdout",
     "output_type": "stream",
     "text": [
      "-----------------------------------------------------------------------\n",
      "Time Taken tO Execute :\n",
      "581.9089639186859 Sec\n"
     ]
    }
   ],
   "source": [
    "if __name__ == \"__main__\":\n",
    "    s = time.time()\n",
    "    permList = list(permutations(result.values()))\n",
    "    permString = list(permutations(result.keys()))\n",
    "    three_split_List = np.array_split(permList, 4)\n",
    "    three_split_String = np.array_split(permString, 4)\n",
    "    lock = threading.Lock()\n",
    "    result1 = []\n",
    "    result2 = []\n",
    "    result3 = []\n",
    "    result4 = []\n",
    "    x = threading.Thread(target=fun1, args=(tuple(three_split_List[0].tolist()),tuple(three_split_String[0].tolist()), result1, lock))\n",
    "    y = threading.Thread(target=fun1, args=(tuple(three_split_List[1].tolist()),tuple(three_split_String[1].tolist()), result2, lock))\n",
    "    z = threading.Thread(target=fun1, args=(tuple(three_split_List[2].tolist()),tuple(three_split_String[2].tolist()), result3, lock))\n",
    "    w = threading.Thread(target=fun1, args=(tuple(three_split_List[3].tolist()),tuple(three_split_String[3].tolist()), result4, lock))\n",
    "    x.start()\n",
    "    y.start()\n",
    "    z.start()\n",
    "    w.start()\n",
    "    \n",
    "    #Joined the threads\n",
    "    x.join()\n",
    "    y.join()\n",
    "    z.join()\n",
    "    w.join()\n",
    "    #Perallel Processing with O(n!) input to Time Complexity with O(n)\n",
    "    '''for perm, stri in zip(permList, permString):\n",
    "        #print(stri,\"*\" *5 ,perm)\n",
    "        x=[]\n",
    "        jb = JobTask(*perm)\n",
    "        r = jb.opt_function()\n",
    "        x.append(stri)\n",
    "        #x.extend(perm)\n",
    "        x.append(r)\n",
    "        result.append(x)\n",
    "        del jb'''\n",
    "    \n",
    "    \n",
    "    e = time.time()\n",
    "    print(\"-----------------------------------------------------------------------\")\n",
    "    print(\"Time Taken tO Execute :\")\n",
    "    print(e-s, \"Sec\")"
   ]
  },
  {
   "cell_type": "code",
   "execution_count": 12,
   "metadata": {},
   "outputs": [
    {
     "data": {
      "text/plain": [
       "3628800"
      ]
     },
     "execution_count": 12,
     "metadata": {},
     "output_type": "execute_result"
    }
   ],
   "source": [
    "sum([len(result1),len(result2),len(result3),len(result4)])"
   ]
  },
  {
   "cell_type": "code",
   "execution_count": 13,
   "metadata": {},
   "outputs": [
    {
     "name": "stdout",
     "output_type": "stream",
     "text": [
      "\\/\\/\\/\\/\\/\\/\\/\\/\\/\\/\\/\\/\\/\\/\\/\\/\\/\\/\\/\\/\\/\\/\\/\\/\\/\\/\\/\\/\\/\\/\\/\\/\\/\\/\n",
      "|                        Result LookUp                             |\n",
      "/\\/\\/\\/\\/\\/\\/\\/\\/\\/\\/\\/\\/\\/\\/\\/\\/\\/\\/\\/\\/\\/\\/\\/\\/\\/\\/\\/\\/\\/\\/\\/\\/\\/\\\n",
      "Less then 10 Operations Results (Can or Can not be present)\n",
      "                                             Permutations  Count_of_Operations\n",
      "795061  [721, 1356, 1298, 1567, 1000, 712m, 744, 1821,...                   66\n",
      "827825  [721, 1567, 1821, 1000, 1356, 712m, 744, 1826,...                   68\n",
      "726564  [1356, 1821, 1298, 828, 1000, 1567, 744, 721, ...                   68\n",
      "793578  [721, 1356, 1298, 712m, 1000, 1821, 1826, 828,...                   68\n",
      "670495  [744, 1567, 712m, 1821, 1000, 721, 828, 1298, ...                   68\n",
      "383927  [1298, 1821, 744, 828, 721, 712m, 1826, 1567, ...                   68\n",
      "769145  [721, 744, 712m, 1356, 1298, 828, 1567, 1826, ...                   70\n",
      "773366  [721, 744, 1356, 828, 1821, 1567, 712m, 1000, ...                   70\n",
      "769191  [721, 744, 712m, 1356, 1298, 1826, 828, 1000, ...                   70\n",
      "794591  [721, 1356, 1298, 744, 712m, 828, 1826, 1567, ...                   70\n"
     ]
    }
   ],
   "source": [
    "pd.set_option(\"display.max_columns\", None)\n",
    "\n",
    "\n",
    "dataFrame1 = pd.concat([pd.DataFrame(result1,),pd.DataFrame(result2,),pd.DataFrame(result3,),pd.DataFrame(result4,)])\n",
    "#dataFrame2 = pd.DataFrame(result2,)\n",
    "DF = pd.DataFrame()\n",
    "\n",
    "DF['Permutations'] = dataFrame1[0]\n",
    "DF['Count_of_Operations'] = dataFrame1[1]\n",
    "\n",
    "#print(\"Result in Table formate\")\n",
    "#print(DF.sort_values(by=['Count_of_Operations']))\n",
    "print(\"\\/\\/\\/\\/\\/\\/\\/\\/\\/\\/\\/\\/\\/\\/\\/\\/\\/\\/\\/\\/\\/\\/\\/\\/\\/\\/\\/\\/\\/\\/\\/\\/\\/\\/\")\n",
    "print(\"|                        Result LookUp                             |\")\n",
    "print(\"/\\/\\/\\/\\/\\/\\/\\/\\/\\/\\/\\/\\/\\/\\/\\/\\/\\/\\/\\/\\/\\/\\/\\/\\/\\/\\/\\/\\/\\/\\/\\/\\/\\/\\\\\")\n",
    "print(\"Less then 10 Operations Results (Can or Can not be present)\")\n",
    "print(DF.sort_values(by=['Count_of_Operations']).head(10))\n",
    "#DF.sort_values(by=['Count_of_Operations']).head(1040000).to_csv(\"myFile.csv\")"
   ]
  },
  {
   "cell_type": "code",
   "execution_count": null,
   "metadata": {},
   "outputs": [],
   "source": [
    "DF.info()"
   ]
  },
  {
   "cell_type": "code",
   "execution_count": null,
   "metadata": {
    "scrolled": true
   },
   "outputs": [],
   "source": [
    "pd.set_option('display.max_colwidth',None)\n",
    "DF.sort_values(by=['Count_of_Operations']).head(10)['Permutations'][0:1]"
   ]
  },
  {
   "cell_type": "code",
   "execution_count": null,
   "metadata": {},
   "outputs": [],
   "source": []
  },
  {
   "cell_type": "code",
   "execution_count": null,
   "metadata": {},
   "outputs": [],
   "source": [
    "que1 = deque(maxlen=7)\n",
    "def opt_function(*args):\n",
    "        que1.clear()\n",
    "        count = 0\n",
    "        que1.extend(args[0])\n",
    "        print('Queue',list(que1))\n",
    "        print(args[1:len(args)])\n",
    "        #complexsity O(n) depending on Argument length.\n",
    "        print()\n",
    "        for j in args[1:len(args)]:\n",
    "            print(list(map(lambda x: x in que1, j)))\n",
    "            for l in j:\n",
    "                if l not in list(que1):\n",
    "                    if len(que1) < max_size:\n",
    "                        que1.append(l)\n",
    "                        count +=1\n",
    "                        print(l)\n",
    "                        print('Queue',list(que1))\n",
    "                    else:\n",
    "                        que1.popleft()\n",
    "                        que1.append(l)\n",
    "                        count +=2\n",
    "                        print(l)\n",
    "                        print('Queue',list(que1))\n",
    "                else:\n",
    "                    pass\n",
    "        \n",
    "        return count"
   ]
  },
  {
   "cell_type": "code",
   "execution_count": null,
   "metadata": {},
   "outputs": [],
   "source": [
    "[1,2,3,4,5,6],[2,5,8,9,6,4,7],[2,3,5,7,4,8,9,6]"
   ]
  },
  {
   "cell_type": "code",
   "execution_count": null,
   "metadata": {},
   "outputs": [],
   "source": [
    "que1"
   ]
  },
  {
   "cell_type": "code",
   "execution_count": null,
   "metadata": {},
   "outputs": [],
   "source": [
    "list(functools.reduce(lambda x,y: list(map(lambda x: x in que1, j)) ,args[1:len(args)]))"
   ]
  },
  {
   "cell_type": "code",
   "execution_count": null,
   "metadata": {},
   "outputs": [],
   "source": [
    "import functools\n"
   ]
  },
  {
   "cell_type": "code",
   "execution_count": null,
   "metadata": {},
   "outputs": [],
   "source": []
  }
 ],
 "metadata": {
  "kernelspec": {
   "display_name": "Python 3",
   "language": "python",
   "name": "python3"
  },
  "language_info": {
   "codemirror_mode": {
    "name": "ipython",
    "version": 3
   },
   "file_extension": ".py",
   "mimetype": "text/x-python",
   "name": "python",
   "nbconvert_exporter": "python",
   "pygments_lexer": "ipython3",
   "version": "3.7.6"
  }
 },
 "nbformat": 4,
 "nbformat_minor": 4
}
