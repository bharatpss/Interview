{
 "cells": [
  {
   "cell_type": "code",
   "execution_count": 42,
   "metadata": {},
   "outputs": [],
   "source": [
    "import pandas as pd\n",
    "import numpy as np"
   ]
  },
  {
   "cell_type": "code",
   "execution_count": null,
   "metadata": {},
   "outputs": [],
   "source": []
  },
  {
   "cell_type": "code",
   "execution_count": 43,
   "metadata": {},
   "outputs": [],
   "source": [
    "dataFrame = pd.read_excel(\"Copy of Postcard(Have_to_change).xls\", keep_default_na=False)"
   ]
  },
  {
   "cell_type": "code",
   "execution_count": 44,
   "metadata": {},
   "outputs": [
    {
     "data": {
      "text/html": [
       "<div>\n",
       "<style scoped>\n",
       "    .dataframe tbody tr th:only-of-type {\n",
       "        vertical-align: middle;\n",
       "    }\n",
       "\n",
       "    .dataframe tbody tr th {\n",
       "        vertical-align: top;\n",
       "    }\n",
       "\n",
       "    .dataframe thead th {\n",
       "        text-align: right;\n",
       "    }\n",
       "</style>\n",
       "<table border=\"1\" class=\"dataframe\">\n",
       "  <thead>\n",
       "    <tr style=\"text-align: right;\">\n",
       "      <th></th>\n",
       "      <th>Component_Desc</th>\n",
       "      <th>Magazine</th>\n",
       "      <th>Product Group Code</th>\n",
       "      <th>1821</th>\n",
       "      <th>1298</th>\n",
       "      <th>1000</th>\n",
       "      <th>1000m2</th>\n",
       "      <th>828</th>\n",
       "      <th>721</th>\n",
       "      <th>712m</th>\n",
       "      <th>744</th>\n",
       "      <th>1356</th>\n",
       "      <th>1567</th>\n",
       "      <th>1826</th>\n",
       "      <th>Grand Total</th>\n",
       "    </tr>\n",
       "  </thead>\n",
       "  <tbody>\n",
       "    <tr>\n",
       "      <th>0</th>\n",
       "      <td>0.1uF 50V SMD CERAMIC</td>\n",
       "      <td>Agillis(1 to 32)</td>\n",
       "      <td>CAP</td>\n",
       "      <td>1</td>\n",
       "      <td>1</td>\n",
       "      <td>1</td>\n",
       "      <td>1</td>\n",
       "      <td>1</td>\n",
       "      <td>1</td>\n",
       "      <td>1</td>\n",
       "      <td></td>\n",
       "      <td></td>\n",
       "      <td></td>\n",
       "      <td></td>\n",
       "      <td>7</td>\n",
       "    </tr>\n",
       "    <tr>\n",
       "      <th>1</th>\n",
       "      <td>08055C474KAT2A 470NF 50V SMD</td>\n",
       "      <td>Agillis(1 to 32)</td>\n",
       "      <td>CAP</td>\n",
       "      <td></td>\n",
       "      <td>1</td>\n",
       "      <td></td>\n",
       "      <td></td>\n",
       "      <td></td>\n",
       "      <td></td>\n",
       "      <td></td>\n",
       "      <td></td>\n",
       "      <td></td>\n",
       "      <td></td>\n",
       "      <td></td>\n",
       "      <td>1</td>\n",
       "    </tr>\n",
       "    <tr>\n",
       "      <th>2</th>\n",
       "      <td>0E 0.25W 1% SMD RESISTOR</td>\n",
       "      <td>Agillis(1 to 32)</td>\n",
       "      <td>RESIS</td>\n",
       "      <td>1</td>\n",
       "      <td></td>\n",
       "      <td>1</td>\n",
       "      <td>1</td>\n",
       "      <td></td>\n",
       "      <td></td>\n",
       "      <td></td>\n",
       "      <td></td>\n",
       "      <td></td>\n",
       "      <td></td>\n",
       "      <td></td>\n",
       "      <td>3</td>\n",
       "    </tr>\n",
       "    <tr>\n",
       "      <th>3</th>\n",
       "      <td>0E 0.25W 5% SMD RESISTOR</td>\n",
       "      <td>Agillis(1 to 32)</td>\n",
       "      <td>RESIS</td>\n",
       "      <td></td>\n",
       "      <td>1</td>\n",
       "      <td></td>\n",
       "      <td></td>\n",
       "      <td></td>\n",
       "      <td></td>\n",
       "      <td></td>\n",
       "      <td></td>\n",
       "      <td>1</td>\n",
       "      <td></td>\n",
       "      <td></td>\n",
       "      <td>2</td>\n",
       "    </tr>\n",
       "    <tr>\n",
       "      <th>4</th>\n",
       "      <td>1.2K 0.25W 1% SMD RESISTOR</td>\n",
       "      <td>Agillis(1 to 32)</td>\n",
       "      <td>RESIS</td>\n",
       "      <td>1</td>\n",
       "      <td></td>\n",
       "      <td></td>\n",
       "      <td></td>\n",
       "      <td>1</td>\n",
       "      <td>1</td>\n",
       "      <td></td>\n",
       "      <td></td>\n",
       "      <td></td>\n",
       "      <td></td>\n",
       "      <td></td>\n",
       "      <td>3</td>\n",
       "    </tr>\n",
       "    <tr>\n",
       "      <th>...</th>\n",
       "      <td>...</td>\n",
       "      <td>...</td>\n",
       "      <td>...</td>\n",
       "      <td>...</td>\n",
       "      <td>...</td>\n",
       "      <td>...</td>\n",
       "      <td>...</td>\n",
       "      <td>...</td>\n",
       "      <td>...</td>\n",
       "      <td>...</td>\n",
       "      <td>...</td>\n",
       "      <td>...</td>\n",
       "      <td>...</td>\n",
       "      <td>...</td>\n",
       "      <td>...</td>\n",
       "    </tr>\n",
       "    <tr>\n",
       "      <th>85</th>\n",
       "      <td>SMD YELLOW LED</td>\n",
       "      <td>Agillis(1 to 32)</td>\n",
       "      <td>LED</td>\n",
       "      <td></td>\n",
       "      <td>1</td>\n",
       "      <td>1</td>\n",
       "      <td>1</td>\n",
       "      <td></td>\n",
       "      <td></td>\n",
       "      <td></td>\n",
       "      <td></td>\n",
       "      <td></td>\n",
       "      <td></td>\n",
       "      <td></td>\n",
       "      <td>3</td>\n",
       "    </tr>\n",
       "    <tr>\n",
       "      <th>86</th>\n",
       "      <td>TL431 SO8 PACK PROG. VOL. REF.</td>\n",
       "      <td>Tm Flux</td>\n",
       "      <td>REG</td>\n",
       "      <td>1</td>\n",
       "      <td></td>\n",
       "      <td></td>\n",
       "      <td></td>\n",
       "      <td></td>\n",
       "      <td></td>\n",
       "      <td></td>\n",
       "      <td></td>\n",
       "      <td></td>\n",
       "      <td></td>\n",
       "      <td></td>\n",
       "      <td>1</td>\n",
       "    </tr>\n",
       "    <tr>\n",
       "      <th>87</th>\n",
       "      <td>TRS3232EIPW RS-232 LINE DRIVER</td>\n",
       "      <td>Tm Flux</td>\n",
       "      <td>IC</td>\n",
       "      <td></td>\n",
       "      <td>1</td>\n",
       "      <td>1</td>\n",
       "      <td>1</td>\n",
       "      <td></td>\n",
       "      <td></td>\n",
       "      <td></td>\n",
       "      <td></td>\n",
       "      <td></td>\n",
       "      <td></td>\n",
       "      <td></td>\n",
       "      <td>3</td>\n",
       "    </tr>\n",
       "    <tr>\n",
       "      <th>88</th>\n",
       "      <td>ULQ2003D1013TR DARLINGTONARRAY</td>\n",
       "      <td>Vibration</td>\n",
       "      <td>IC</td>\n",
       "      <td></td>\n",
       "      <td>1</td>\n",
       "      <td>1</td>\n",
       "      <td>1</td>\n",
       "      <td></td>\n",
       "      <td></td>\n",
       "      <td></td>\n",
       "      <td></td>\n",
       "      <td></td>\n",
       "      <td></td>\n",
       "      <td></td>\n",
       "      <td>3</td>\n",
       "    </tr>\n",
       "    <tr>\n",
       "      <th>89</th>\n",
       "      <td>Grand Total</td>\n",
       "      <td></td>\n",
       "      <td></td>\n",
       "      <td>34</td>\n",
       "      <td>33</td>\n",
       "      <td>31</td>\n",
       "      <td>31</td>\n",
       "      <td>26</td>\n",
       "      <td>23</td>\n",
       "      <td>13</td>\n",
       "      <td>5</td>\n",
       "      <td>5</td>\n",
       "      <td>2</td>\n",
       "      <td>1</td>\n",
       "      <td>204</td>\n",
       "    </tr>\n",
       "  </tbody>\n",
       "</table>\n",
       "<p>90 rows × 15 columns</p>\n",
       "</div>"
      ],
      "text/plain": [
       "                    Component_Desc          Magazine Product Group Code 1821  \\\n",
       "0            0.1uF 50V SMD CERAMIC  Agillis(1 to 32)                CAP    1   \n",
       "1     08055C474KAT2A 470NF 50V SMD  Agillis(1 to 32)                CAP        \n",
       "2         0E 0.25W 1% SMD RESISTOR  Agillis(1 to 32)              RESIS    1   \n",
       "3         0E 0.25W 5% SMD RESISTOR  Agillis(1 to 32)              RESIS        \n",
       "4       1.2K 0.25W 1% SMD RESISTOR  Agillis(1 to 32)              RESIS    1   \n",
       "..                             ...               ...                ...  ...   \n",
       "85                  SMD YELLOW LED  Agillis(1 to 32)                LED        \n",
       "86  TL431 SO8 PACK PROG. VOL. REF.           Tm Flux                REG    1   \n",
       "87  TRS3232EIPW RS-232 LINE DRIVER           Tm Flux                 IC        \n",
       "88  ULQ2003D1013TR DARLINGTONARRAY         Vibration                 IC        \n",
       "89                     Grand Total                                        34   \n",
       "\n",
       "   1298 1000 1000m2 828 721 712m 744 1356 1567 1826  Grand Total  \n",
       "0     1    1      1   1   1    1                               7  \n",
       "1     1                                                        1  \n",
       "2          1      1                                            3  \n",
       "3     1                                 1                      2  \n",
       "4                     1   1                                    3  \n",
       "..  ...  ...    ...  ..  ..  ...  ..  ...  ...  ...          ...  \n",
       "85    1    1      1                                            3  \n",
       "86                                                             1  \n",
       "87    1    1      1                                            3  \n",
       "88    1    1      1                                            3  \n",
       "89   33   31     31  26  23   13   5    5    2    1          204  \n",
       "\n",
       "[90 rows x 15 columns]"
      ]
     },
     "execution_count": 44,
     "metadata": {},
     "output_type": "execute_result"
    }
   ],
   "source": [
    "dataFrame"
   ]
  },
  {
   "cell_type": "code",
   "execution_count": 45,
   "metadata": {
    "scrolled": true
   },
   "outputs": [
    {
     "data": {
      "text/plain": [
       "['0.1uF 50V SMD CERAMIC',\n",
       " '0E 0.25W 1% SMD RESISTOR',\n",
       " '1.2K 0.25W 1% SMD RESISTOR',\n",
       " '100E 0.25W 1% SMD RESISTOR',\n",
       " '100K 0.25W 1% SMD RESISTOR',\n",
       " '10K 0.25W 1% SMD RESISTOR',\n",
       " '150K 0.25W 1% SMD RESISTOR',\n",
       " '1K 0.25W 1% SMD RESISTOR',\n",
       " '1M 0.25W 1% SMD RESISTOR',\n",
       " '220K 0.25W 1% SMD RESISTOR',\n",
       " '240E 0.25W 1% SMD RESISTOR',\n",
       " '2K 0.25W 1% SMD RESISTOR',\n",
       " '3.3K 0.25W 1% SMD RESISTOR',\n",
       " '3.9M 0.25W 1206 1% SMD RESISTOR',\n",
       " '330E 0.25W 1% SMD RESISTOR',\n",
       " '33E 0.25W 1% SMD RESISTOR',\n",
       " '33NF 50V SMD CERAMIC CAPACITOR',\n",
       " '36K 0.25W 1% SMD RESISTOR',\n",
       " '4148 GLASS SMD DIODE',\n",
       " '470E 0.25W 1% SMD RESISTOR',\n",
       " '470K 0.25W 1% SMD RESISTOR',\n",
       " '47E 0.25W 1% SMD RESISTOR',\n",
       " '47K 0.25W 1% SMD RESISTOR',\n",
       " '5.1E 0.25W 1% SMD RESISTOR',\n",
       " '5.1K 0.25W 1% SMD RESISTOR',\n",
       " '5.6K 0.25W 1% SMD RESISTOR',\n",
       " '6.8E 0.25W 1% SMD RESISTOR',\n",
       " '6.8K 0.25W 1% SMD RESISTOR',\n",
       " '68K 0.25W 1% SMD RESISTOR',\n",
       " '8.2K 0.25W 1% SMD RESISTOR',\n",
       " 'BC846 SOT23 NPN SMD TRANSISTOR',\n",
       " 'CMMT591 CDIL SMD TRANSISTOR',\n",
       " 'KP1010 SMD OPTO COUPLER']"
      ]
     },
     "execution_count": 45,
     "metadata": {},
     "output_type": "execute_result"
    }
   ],
   "source": [
    "list(dataFrame[dataFrame[1821]==1]['Component_Desc'][:-1])"
   ]
  },
  {
   "cell_type": "code",
   "execution_count": 112,
   "metadata": {},
   "outputs": [],
   "source": [
    "Data={}"
   ]
  },
  {
   "cell_type": "code",
   "execution_count": 113,
   "metadata": {},
   "outputs": [],
   "source": [
    "for i in dataFrame.columns[3:-1]:\n",
    "    Data[i] = list(dataFrame[dataFrame[i]==1]['Component_Desc'][:-1])"
   ]
  },
  {
   "cell_type": "code",
   "execution_count": 114,
   "metadata": {},
   "outputs": [
    {
     "data": {
      "text/plain": [
       "1"
      ]
     },
     "execution_count": 114,
     "metadata": {},
     "output_type": "execute_result"
    }
   ],
   "source": [
    "list(Data).count(1821)"
   ]
  },
  {
   "cell_type": "code",
   "execution_count": 117,
   "metadata": {
    "scrolled": true
   },
   "outputs": [
    {
     "name": "stdout",
     "output_type": "stream",
     "text": [
      "------------------------- **** -------------------------\n",
      "------------------------- **** -------------------------\n",
      "------------------------- **** -------------------------\n",
      "1000 PCBs have same components with size : 30\n",
      "------------------------- **** -------------------------\n",
      "1000m2 PCBs have same components with size : 30\n",
      "------------------------- **** -------------------------\n",
      "------------------------- **** -------------------------\n",
      "------------------------- **** -------------------------\n",
      "------------------------- **** -------------------------\n",
      "------------------------- **** -------------------------\n",
      "------------------------- **** -------------------------\n",
      "------------------------- **** -------------------------\n"
     ]
    }
   ],
   "source": [
    "same_pcbs = []\n",
    "\n",
    "for k, v in Data.items():\n",
    "    print(\"-\"*25,\"****\",\"-\"*25)\n",
    "    if list(Data.values()).count(v)>1:\n",
    "        print(k, \"PCBs have same components with size :\", len(v))\n",
    "        same_pcbs.append(k)"
   ]
  },
  {
   "cell_type": "code",
   "execution_count": 118,
   "metadata": {},
   "outputs": [
    {
     "data": {
      "text/plain": [
       "[1000, '1000m2']"
      ]
     },
     "execution_count": 118,
     "metadata": {},
     "output_type": "execute_result"
    }
   ],
   "source": [
    "same_pcbs"
   ]
  },
  {
   "cell_type": "code",
   "execution_count": 80,
   "metadata": {},
   "outputs": [],
   "source": [
    "result = {}\n",
    "\n",
    "for key,value in Data.items():\n",
    "    if value not in result.values():\n",
    "        result[key] = value"
   ]
  },
  {
   "cell_type": "code",
   "execution_count": 83,
   "metadata": {},
   "outputs": [
    {
     "data": {
      "text/plain": [
       "dict_keys([1821, 1298, 1000, 828, 721, '712m', 744, 1356, 1567, 1826])"
      ]
     },
     "execution_count": 83,
     "metadata": {},
     "output_type": "execute_result"
    }
   ],
   "source": [
    "result.keys()"
   ]
  },
  {
   "cell_type": "code",
   "execution_count": 37,
   "metadata": {},
   "outputs": [],
   "source": [
    "# d = {\"key1\" : [1,2,3], \"key2\": [1,2,6], \"key3\": [1,2,3]}\n",
    "# seen = set()\n",
    "# for k, v in d.items(): \n",
    "#     # list(items) for python3\n",
    "#     temp = tuple(v) \n",
    "#     if temp in seen:\n",
    "#         del d[k]\n",
    "#     seen.add(temp)\n",
    "\n",
    "# print(d)\n"
   ]
  },
  {
   "cell_type": "code",
   "execution_count": 129,
   "metadata": {},
   "outputs": [
    {
     "ename": "AttributeError",
     "evalue": "'DataFrameGroupBy' object has no attribute 'reset_index'",
     "output_type": "error",
     "traceback": [
      "\u001b[1;31m---------------------------------------------------------------------------\u001b[0m",
      "\u001b[1;31mAttributeError\u001b[0m                            Traceback (most recent call last)",
      "\u001b[1;32m<ipython-input-129-ae888edd4864>\u001b[0m in \u001b[0;36m<module>\u001b[1;34m\u001b[0m\n\u001b[1;32m----> 1\u001b[1;33m \u001b[0mdataFrame\u001b[0m\u001b[1;33m.\u001b[0m\u001b[0mgroupby\u001b[0m\u001b[1;33m(\u001b[0m\u001b[1;34m'Product Group Code'\u001b[0m\u001b[1;33m)\u001b[0m\u001b[1;33m.\u001b[0m\u001b[0mreset_index\u001b[0m\u001b[1;33m(\u001b[0m\u001b[1;33m)\u001b[0m\u001b[1;33m\u001b[0m\u001b[1;33m\u001b[0m\u001b[0m\n\u001b[0m",
      "\u001b[1;32mC:\\ProgramData\\Anaconda3\\lib\\site-packages\\pandas\\core\\groupby\\groupby.py\u001b[0m in \u001b[0;36m__getattr__\u001b[1;34m(self, attr)\u001b[0m\n\u001b[0;32m    578\u001b[0m \u001b[1;33m\u001b[0m\u001b[0m\n\u001b[0;32m    579\u001b[0m         raise AttributeError(\n\u001b[1;32m--> 580\u001b[1;33m             \u001b[1;34mf\"'{type(self).__name__}' object has no attribute '{attr}'\"\u001b[0m\u001b[1;33m\u001b[0m\u001b[1;33m\u001b[0m\u001b[0m\n\u001b[0m\u001b[0;32m    581\u001b[0m         )\n\u001b[0;32m    582\u001b[0m \u001b[1;33m\u001b[0m\u001b[0m\n",
      "\u001b[1;31mAttributeError\u001b[0m: 'DataFrameGroupBy' object has no attribute 'reset_index'"
     ]
    }
   ],
   "source": [
    "dataFrame.groupby('Product Group Code').reset_index()"
   ]
  },
  {
   "cell_type": "code",
   "execution_count": 134,
   "metadata": {},
   "outputs": [
    {
     "name": "stdout",
     "output_type": "stream",
     "text": [
      "Factorial of given number is\n",
      "933262154439441526816992388562667004907159682643816214685929638952175999932299156089414639761565182862536979208272237582511852109168640000000000000000000000"
     ]
    }
   ],
   "source": [
    "import sys \n",
    "  \n",
    "# This function finds factorial of large \n",
    "# numbers and prints them \n",
    "def factorial( n) : \n",
    "    res = [None]*500\n",
    "    # Initialize result \n",
    "    res[0] = 1\n",
    "    res_size = 1\n",
    "  \n",
    "    # Apply simple factorial formula  \n",
    "    # n! = 1 * 2 * 3 * 4...*n \n",
    "    x = 2\n",
    "    while x <= n : \n",
    "        res_size = multiply(x, res, res_size) \n",
    "        x = x + 1\n",
    "      \n",
    "    print (\"Factorial of given number is\") \n",
    "    i = res_size-1\n",
    "    while i >= 0 : \n",
    "        sys.stdout.write(str(res[i])) \n",
    "        sys.stdout.flush() \n",
    "        i = i - 1\n",
    "          \n",
    "  \n",
    "# This function multiplies x with the number  \n",
    "# represented by res[]. res_size is size of res[]  \n",
    "# or number of digits in the number represented  \n",
    "# by res[]. This function uses simple school  \n",
    "# mathematics for multiplication. This function  \n",
    "# may value of res_size and returns the new value \n",
    "# of res_size \n",
    "def multiply(x, res,res_size) : \n",
    "      \n",
    "    carry = 0 # Initialize carry \n",
    "  \n",
    "    # One by one multiply n with individual \n",
    "    # digits of res[] \n",
    "    i = 0\n",
    "    while i < res_size : \n",
    "        prod = res[i] *x + carry \n",
    "        res[i] = prod % 10; # Store last digit of  \n",
    "                            # 'prod' in res[] \n",
    "        # make sure floor division is used \n",
    "        carry = prod//10; # Put rest in carry \n",
    "        i = i + 1\n",
    "  \n",
    "    # Put carry in res and increase result size \n",
    "    while (carry) : \n",
    "        res[res_size] = carry % 10\n",
    "        # make sure floor division is used \n",
    "        # to avoid floating value \n",
    "        carry = carry // 10\n",
    "        res_size = res_size + 1\n",
    "          \n",
    "    return res_size \n",
    "  \n",
    "# Driver program \n",
    "factorial(99) \n",
    "  \n",
    "#This code is contributed by Nikita Tiwari. "
   ]
  },
  {
   "cell_type": "code",
   "execution_count": 142,
   "metadata": {},
   "outputs": [
    {
     "name": "stdout",
     "output_type": "stream",
     "text": [
      "54\n"
     ]
    }
   ],
   "source": [
    "import sys\n",
    "myint = \"a\"\n",
    "print(sys.getsizeof(myint))"
   ]
  },
  {
   "cell_type": "code",
   "execution_count": 143,
   "metadata": {},
   "outputs": [
    {
     "name": "stdout",
     "output_type": "stream",
     "text": [
      "4\n",
      "1800\n"
     ]
    }
   ],
   "source": [
    "import numpy as np\n",
    "x = np.float32(0)\n",
    "print(x.nbytes) # 4\n",
    "a = np.zeros((15, 15), np.int64)\n",
    "print(a.nbytes) # 15 * 15 * 8 = 1800"
   ]
  },
  {
   "cell_type": "code",
   "execution_count": null,
   "metadata": {},
   "outputs": [],
   "source": []
  }
 ],
 "metadata": {
  "kernelspec": {
   "display_name": "Python 3",
   "language": "python",
   "name": "python3"
  },
  "language_info": {
   "codemirror_mode": {
    "name": "ipython",
    "version": 3
   },
   "file_extension": ".py",
   "mimetype": "text/x-python",
   "name": "python",
   "nbconvert_exporter": "python",
   "pygments_lexer": "ipython3",
   "version": "3.7.6"
  }
 },
 "nbformat": 4,
 "nbformat_minor": 4
}
