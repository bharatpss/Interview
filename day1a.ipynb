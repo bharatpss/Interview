{
 "cells": [
  {
   "cell_type": "markdown",
   "metadata": {},
   "source": [
    "#### Understanding Time series data:\n",
    "\n",
    "Time series data is generally univariate data. It is characterized by the univariate variable being dependent on itself. Time is the implicit variable in the time series data. Therefore, time series data can be considered as a sequence of observations arranged in sorted ascending order of time. Time series forecasting is set of methods to learn for the time series so that the future (extrapolated) values can be predicted. The following guidelines may be followed when dealing with time series data.\n",
    "\n",
    "1.\tDepending on how far into future you need to predict collect sufficient historical data. Thumb rule is to have at least 50 stable observations and better is 100 obs.  \n",
    "2.\tThe time series analysis is worthless, unless past is a reasonably true representative of future.\n",
    "3.\tPlease note the word ‘stable’ the point 1 above. You must use that part of time series that does not have abrupt jumps (shocks), outliers, missing values and extreme volatility. \n",
    "4.\tHave domain knowledge on dynamics of the subject area so as to assess how far into future you can project become uncontrolled variables and uncertainty become predominant.\n",
    "5.\tMany times, prediction itself affects the observation. One example is stock market. The market reacts to the newly predicted information and adjusts itself to counter it."
   ]
  },
  {
   "cell_type": "markdown",
   "metadata": {},
   "source": [
    "#### Time series and Python: \n",
    "Python has a rich library of methods and object types to handle and process time series data. In order to use the methods effectively we need to make raw data recognized by python as time series data. So, we need to index the data as time series data by proper time stamping. This and other aspects of time series processing will be explained at appropriate time during the lab session.\n",
    "Time series packages in Python\n",
    "The following packages are required to analyze time series data.\n",
    "\n",
    "•\tpandas (datetime(), Series)\n",
    "•\tstatsmodels (acf, pacf, ARIMA, adfuller, seasonal_decompose, durbin_watson)\n",
    "•\tmatplotlib\n",
    "•\tsklearn (LinearRegression)\n",
    "•\tseaborn(pair_plot)\n",
    "\n",
    "#### Load Required packages:"
   ]
  },
  {
   "cell_type": "code",
   "execution_count": 2,
   "metadata": {},
   "outputs": [],
   "source": [
    "import numpy as np\n",
    "import pandas as pd\n",
    "import matplotlib.pyplot as plt\n",
    "import seaborn as sns\n",
    "import calendar\n",
    "\n",
    "from pandas import Series, read_csv, DataFrame, concat, Grouper, TimeGrouper\n",
    "from pandas.plotting import autocorrelation_plot\n",
    "from statsmodels.graphics.tsaplots import plot_acf\n",
    "from statsmodels.graphics.tsaplots import plot_pacf\n",
    "from statsmodels.tsa.arima_model import ARIMA\n",
    "from statsmodels.tsa.seasonal import seasonal_decompose\n",
    "from statsmodels.tsa.stattools import adfuller\n",
    "import statsmodels.formula.api as smf\n",
    "import statsmodels.api as sm\n",
    "from sklearn.linear_model import LinearRegression\n",
    "from sklearn import metrics\n",
    "from statsmodels.stats.stattools import durbin_watson\n",
    "from datetime import datetime\n",
    "\n",
    "from matplotlib.pylab import rcParams\n",
    "rcParams['figure.figsize'] = 15, 6\n",
    "sns.set()\n",
    "%matplotlib inline\n",
    "\n",
    "import os\n",
    "# os.chdir('C:/Users/Sid/Desktop/TimeSeries/Day1/Faculty_Notebook')"
   ]
  },
  {
   "cell_type": "markdown",
   "metadata": {},
   "source": [
    "#### Time stamping the data:\n",
    "The first step in time series analysis is to timestamp the series. If we usually import data into python via ‘csv’ files. Then the data frame created would contain a string data type column in the form\n",
    "•\tdd-mm-yy or dd-mm-yyyy for daily observations\n",
    "•\tmm-yy or mm-yyyy for monthly observations\n",
    "•\tyy or yyyy for yearly observations\n",
    "•\t(of course we can  also have hourly and minute-wise data also)\n",
    "\n",
    "Creating a time object and time stamping Time series data.\n",
    "    read data file (File: Reliance India Stock price file name: relindsp.xlsx )\n",
    "    use parser to interpret string date properly  \n",
    "    set date as index to the series\n"
   ]
  },
  {
   "cell_type": "code",
   "execution_count": 3,
   "metadata": {},
   "outputs": [],
   "source": [
    "parser = lambda date: pd.datetime.strptime(date, '%d-%m-%Y')\n",
    "\n",
    "relind = pd.read_excel('relindsp.xlsx', parse_dates=['date'], date_parser = parser, index_col='date')"
   ]
  },
  {
   "cell_type": "code",
   "execution_count": 4,
   "metadata": {},
   "outputs": [
    {
     "name": "stdout",
     "output_type": "stream",
     "text": [
      "                sprice\n",
      "date                  \n",
      "2011-01-02  553.667363\n",
      "2011-01-03  707.065312\n",
      "2011-01-04  657.651882\n",
      "2011-01-05  812.190262\n",
      "2011-01-06  529.852229\n",
      "<class 'pandas.core.frame.DataFrame'>\n",
      "<class 'pandas.core.frame.DataFrame'>\n",
      "DatetimeIndex: 2087 entries, 2011-01-02 to 2018-12-31\n",
      "Data columns (total 1 columns):\n",
      "sprice    2087 non-null float64\n",
      "dtypes: float64(1)\n",
      "memory usage: 32.6 KB\n",
      "None\n",
      "DatetimeIndex(['2011-01-02', '2011-01-03', '2011-01-04', '2011-01-05',\n",
      "               '2011-01-06', '2011-01-09', '2011-01-10', '2011-01-11',\n",
      "               '2011-01-12', '2011-01-13'],\n",
      "              dtype='datetime64[ns]', name='date', freq=None)\n"
     ]
    }
   ],
   "source": [
    "print(relind.head())\n",
    "print(type(relind))\n",
    "print(relind.info())\n",
    "print(relind.index[0:10])"
   ]
  },
  {
   "cell_type": "markdown",
   "metadata": {},
   "source": [
    "Using date index we can filter data by year, month, date or for a specific period. These operations are shown below:"
   ]
  },
  {
   "cell_type": "code",
   "execution_count": 5,
   "metadata": {},
   "outputs": [
    {
     "data": {
      "text/html": [
       "<div>\n",
       "<style scoped>\n",
       "    .dataframe tbody tr th:only-of-type {\n",
       "        vertical-align: middle;\n",
       "    }\n",
       "\n",
       "    .dataframe tbody tr th {\n",
       "        vertical-align: top;\n",
       "    }\n",
       "\n",
       "    .dataframe thead th {\n",
       "        text-align: right;\n",
       "    }\n",
       "</style>\n",
       "<table border=\"1\" class=\"dataframe\">\n",
       "  <thead>\n",
       "    <tr style=\"text-align: right;\">\n",
       "      <th></th>\n",
       "      <th>sprice</th>\n",
       "    </tr>\n",
       "    <tr>\n",
       "      <th>date</th>\n",
       "      <th></th>\n",
       "    </tr>\n",
       "  </thead>\n",
       "  <tbody>\n",
       "    <tr>\n",
       "      <th>2013-02-03</th>\n",
       "      <td>2304.129883</td>\n",
       "    </tr>\n",
       "    <tr>\n",
       "      <th>2013-02-04</th>\n",
       "      <td>2964.477994</td>\n",
       "    </tr>\n",
       "    <tr>\n",
       "      <th>2013-02-05</th>\n",
       "      <td>3082.420590</td>\n",
       "    </tr>\n",
       "    <tr>\n",
       "      <th>2013-02-06</th>\n",
       "      <td>2728.649359</td>\n",
       "    </tr>\n",
       "    <tr>\n",
       "      <th>2013-02-07</th>\n",
       "      <td>2826.729016</td>\n",
       "    </tr>\n",
       "    <tr>\n",
       "      <th>2013-02-10</th>\n",
       "      <td>2406.187091</td>\n",
       "    </tr>\n",
       "    <tr>\n",
       "      <th>2013-02-11</th>\n",
       "      <td>2691.650242</td>\n",
       "    </tr>\n",
       "    <tr>\n",
       "      <th>2013-02-12</th>\n",
       "      <td>2118.578772</td>\n",
       "    </tr>\n",
       "    <tr>\n",
       "      <th>2013-02-13</th>\n",
       "      <td>2629.118895</td>\n",
       "    </tr>\n",
       "    <tr>\n",
       "      <th>2013-02-14</th>\n",
       "      <td>2694.409358</td>\n",
       "    </tr>\n",
       "    <tr>\n",
       "      <th>2013-02-17</th>\n",
       "      <td>2454.667224</td>\n",
       "    </tr>\n",
       "    <tr>\n",
       "      <th>2013-02-18</th>\n",
       "      <td>2779.296710</td>\n",
       "    </tr>\n",
       "    <tr>\n",
       "      <th>2013-02-19</th>\n",
       "      <td>2500.218876</td>\n",
       "    </tr>\n",
       "    <tr>\n",
       "      <th>2013-02-20</th>\n",
       "      <td>2897.290264</td>\n",
       "    </tr>\n",
       "    <tr>\n",
       "      <th>2013-02-21</th>\n",
       "      <td>2833.423396</td>\n",
       "    </tr>\n",
       "    <tr>\n",
       "      <th>2013-02-24</th>\n",
       "      <td>2210.556850</td>\n",
       "    </tr>\n",
       "    <tr>\n",
       "      <th>2013-02-25</th>\n",
       "      <td>2239.504442</td>\n",
       "    </tr>\n",
       "    <tr>\n",
       "      <th>2013-02-26</th>\n",
       "      <td>2920.680477</td>\n",
       "    </tr>\n",
       "    <tr>\n",
       "      <th>2013-02-27</th>\n",
       "      <td>2256.037593</td>\n",
       "    </tr>\n",
       "    <tr>\n",
       "      <th>2013-02-28</th>\n",
       "      <td>2932.304549</td>\n",
       "    </tr>\n",
       "  </tbody>\n",
       "</table>\n",
       "</div>"
      ],
      "text/plain": [
       "                 sprice\n",
       "date                   \n",
       "2013-02-03  2304.129883\n",
       "2013-02-04  2964.477994\n",
       "2013-02-05  3082.420590\n",
       "2013-02-06  2728.649359\n",
       "2013-02-07  2826.729016\n",
       "2013-02-10  2406.187091\n",
       "2013-02-11  2691.650242\n",
       "2013-02-12  2118.578772\n",
       "2013-02-13  2629.118895\n",
       "2013-02-14  2694.409358\n",
       "2013-02-17  2454.667224\n",
       "2013-02-18  2779.296710\n",
       "2013-02-19  2500.218876\n",
       "2013-02-20  2897.290264\n",
       "2013-02-21  2833.423396\n",
       "2013-02-24  2210.556850\n",
       "2013-02-25  2239.504442\n",
       "2013-02-26  2920.680477\n",
       "2013-02-27  2256.037593\n",
       "2013-02-28  2932.304549"
      ]
     },
     "execution_count": 5,
     "metadata": {},
     "output_type": "execute_result"
    }
   ],
   "source": [
    "# Filter data for february, 2013\n",
    "relind['2-2013']"
   ]
  },
  {
   "cell_type": "code",
   "execution_count": 6,
   "metadata": {},
   "outputs": [
    {
     "data": {
      "text/html": [
       "<div>\n",
       "<style scoped>\n",
       "    .dataframe tbody tr th:only-of-type {\n",
       "        vertical-align: middle;\n",
       "    }\n",
       "\n",
       "    .dataframe tbody tr th {\n",
       "        vertical-align: top;\n",
       "    }\n",
       "\n",
       "    .dataframe thead th {\n",
       "        text-align: right;\n",
       "    }\n",
       "</style>\n",
       "<table border=\"1\" class=\"dataframe\">\n",
       "  <thead>\n",
       "    <tr style=\"text-align: right;\">\n",
       "      <th></th>\n",
       "      <th>sprice</th>\n",
       "    </tr>\n",
       "    <tr>\n",
       "      <th>date</th>\n",
       "      <th></th>\n",
       "    </tr>\n",
       "  </thead>\n",
       "  <tbody>\n",
       "    <tr>\n",
       "      <th>2013-01-01</th>\n",
       "      <td>2336.697144</td>\n",
       "    </tr>\n",
       "    <tr>\n",
       "      <th>2013-01-02</th>\n",
       "      <td>2567.746356</td>\n",
       "    </tr>\n",
       "    <tr>\n",
       "      <th>2013-01-03</th>\n",
       "      <td>2970.052353</td>\n",
       "    </tr>\n",
       "    <tr>\n",
       "      <th>2013-01-06</th>\n",
       "      <td>2875.461487</td>\n",
       "    </tr>\n",
       "    <tr>\n",
       "      <th>2013-01-07</th>\n",
       "      <td>2430.124514</td>\n",
       "    </tr>\n",
       "    <tr>\n",
       "      <th>2013-01-08</th>\n",
       "      <td>2509.669617</td>\n",
       "    </tr>\n",
       "    <tr>\n",
       "      <th>2013-01-09</th>\n",
       "      <td>2387.243846</td>\n",
       "    </tr>\n",
       "    <tr>\n",
       "      <th>2013-01-10</th>\n",
       "      <td>2059.399641</td>\n",
       "    </tr>\n",
       "    <tr>\n",
       "      <th>2013-01-13</th>\n",
       "      <td>3083.951884</td>\n",
       "    </tr>\n",
       "    <tr>\n",
       "      <th>2013-01-14</th>\n",
       "      <td>2219.979867</td>\n",
       "    </tr>\n",
       "    <tr>\n",
       "      <th>2013-01-15</th>\n",
       "      <td>2560.191492</td>\n",
       "    </tr>\n",
       "    <tr>\n",
       "      <th>2013-01-16</th>\n",
       "      <td>2917.286669</td>\n",
       "    </tr>\n",
       "    <tr>\n",
       "      <th>2013-01-17</th>\n",
       "      <td>2565.702922</td>\n",
       "    </tr>\n",
       "    <tr>\n",
       "      <th>2013-01-20</th>\n",
       "      <td>2780.464933</td>\n",
       "    </tr>\n",
       "    <tr>\n",
       "      <th>2013-01-21</th>\n",
       "      <td>2668.699346</td>\n",
       "    </tr>\n",
       "    <tr>\n",
       "      <th>2013-01-22</th>\n",
       "      <td>2851.105155</td>\n",
       "    </tr>\n",
       "    <tr>\n",
       "      <th>2013-01-23</th>\n",
       "      <td>2475.445884</td>\n",
       "    </tr>\n",
       "    <tr>\n",
       "      <th>2013-01-24</th>\n",
       "      <td>2568.611381</td>\n",
       "    </tr>\n",
       "    <tr>\n",
       "      <th>2013-01-27</th>\n",
       "      <td>3000.752264</td>\n",
       "    </tr>\n",
       "    <tr>\n",
       "      <th>2013-01-28</th>\n",
       "      <td>2934.768284</td>\n",
       "    </tr>\n",
       "    <tr>\n",
       "      <th>2013-01-29</th>\n",
       "      <td>2868.980558</td>\n",
       "    </tr>\n",
       "    <tr>\n",
       "      <th>2013-01-30</th>\n",
       "      <td>3038.472382</td>\n",
       "    </tr>\n",
       "    <tr>\n",
       "      <th>2013-01-31</th>\n",
       "      <td>3502.618043</td>\n",
       "    </tr>\n",
       "    <tr>\n",
       "      <th>2013-02-03</th>\n",
       "      <td>2304.129883</td>\n",
       "    </tr>\n",
       "    <tr>\n",
       "      <th>2013-02-04</th>\n",
       "      <td>2964.477994</td>\n",
       "    </tr>\n",
       "    <tr>\n",
       "      <th>2013-02-05</th>\n",
       "      <td>3082.420590</td>\n",
       "    </tr>\n",
       "    <tr>\n",
       "      <th>2013-02-06</th>\n",
       "      <td>2728.649359</td>\n",
       "    </tr>\n",
       "    <tr>\n",
       "      <th>2013-02-07</th>\n",
       "      <td>2826.729016</td>\n",
       "    </tr>\n",
       "    <tr>\n",
       "      <th>2013-02-10</th>\n",
       "      <td>2406.187091</td>\n",
       "    </tr>\n",
       "    <tr>\n",
       "      <th>2013-02-11</th>\n",
       "      <td>2691.650242</td>\n",
       "    </tr>\n",
       "    <tr>\n",
       "      <th>...</th>\n",
       "      <td>...</td>\n",
       "    </tr>\n",
       "    <tr>\n",
       "      <th>2013-11-20</th>\n",
       "      <td>3342.003795</td>\n",
       "    </tr>\n",
       "    <tr>\n",
       "      <th>2013-11-21</th>\n",
       "      <td>3508.217717</td>\n",
       "    </tr>\n",
       "    <tr>\n",
       "      <th>2013-11-24</th>\n",
       "      <td>3418.997636</td>\n",
       "    </tr>\n",
       "    <tr>\n",
       "      <th>2013-11-25</th>\n",
       "      <td>3510.428969</td>\n",
       "    </tr>\n",
       "    <tr>\n",
       "      <th>2013-11-26</th>\n",
       "      <td>4485.855864</td>\n",
       "    </tr>\n",
       "    <tr>\n",
       "      <th>2013-11-27</th>\n",
       "      <td>3520.576748</td>\n",
       "    </tr>\n",
       "    <tr>\n",
       "      <th>2013-11-28</th>\n",
       "      <td>3651.117584</td>\n",
       "    </tr>\n",
       "    <tr>\n",
       "      <th>2013-12-01</th>\n",
       "      <td>3535.820701</td>\n",
       "    </tr>\n",
       "    <tr>\n",
       "      <th>2013-12-02</th>\n",
       "      <td>3472.384987</td>\n",
       "    </tr>\n",
       "    <tr>\n",
       "      <th>2013-12-03</th>\n",
       "      <td>3609.504344</td>\n",
       "    </tr>\n",
       "    <tr>\n",
       "      <th>2013-12-04</th>\n",
       "      <td>2949.386405</td>\n",
       "    </tr>\n",
       "    <tr>\n",
       "      <th>2013-12-05</th>\n",
       "      <td>3183.449159</td>\n",
       "    </tr>\n",
       "    <tr>\n",
       "      <th>2013-12-08</th>\n",
       "      <td>3428.686036</td>\n",
       "    </tr>\n",
       "    <tr>\n",
       "      <th>2013-12-09</th>\n",
       "      <td>3623.022333</td>\n",
       "    </tr>\n",
       "    <tr>\n",
       "      <th>2013-12-10</th>\n",
       "      <td>3844.100861</td>\n",
       "    </tr>\n",
       "    <tr>\n",
       "      <th>2013-12-11</th>\n",
       "      <td>3532.793791</td>\n",
       "    </tr>\n",
       "    <tr>\n",
       "      <th>2013-12-12</th>\n",
       "      <td>2784.376097</td>\n",
       "    </tr>\n",
       "    <tr>\n",
       "      <th>2013-12-15</th>\n",
       "      <td>3070.271937</td>\n",
       "    </tr>\n",
       "    <tr>\n",
       "      <th>2013-12-16</th>\n",
       "      <td>3973.463864</td>\n",
       "    </tr>\n",
       "    <tr>\n",
       "      <th>2013-12-17</th>\n",
       "      <td>3277.309650</td>\n",
       "    </tr>\n",
       "    <tr>\n",
       "      <th>2013-12-18</th>\n",
       "      <td>2880.760641</td>\n",
       "    </tr>\n",
       "    <tr>\n",
       "      <th>2013-12-19</th>\n",
       "      <td>3793.270710</td>\n",
       "    </tr>\n",
       "    <tr>\n",
       "      <th>2013-12-22</th>\n",
       "      <td>3076.448949</td>\n",
       "    </tr>\n",
       "    <tr>\n",
       "      <th>2013-12-23</th>\n",
       "      <td>3347.492613</td>\n",
       "    </tr>\n",
       "    <tr>\n",
       "      <th>2013-12-24</th>\n",
       "      <td>3641.646042</td>\n",
       "    </tr>\n",
       "    <tr>\n",
       "      <th>2013-12-25</th>\n",
       "      <td>3722.940821</td>\n",
       "    </tr>\n",
       "    <tr>\n",
       "      <th>2013-12-26</th>\n",
       "      <td>3613.242573</td>\n",
       "    </tr>\n",
       "    <tr>\n",
       "      <th>2013-12-29</th>\n",
       "      <td>3257.799843</td>\n",
       "    </tr>\n",
       "    <tr>\n",
       "      <th>2013-12-30</th>\n",
       "      <td>3668.181852</td>\n",
       "    </tr>\n",
       "    <tr>\n",
       "      <th>2013-12-31</th>\n",
       "      <td>3099.382839</td>\n",
       "    </tr>\n",
       "  </tbody>\n",
       "</table>\n",
       "<p>261 rows × 1 columns</p>\n",
       "</div>"
      ],
      "text/plain": [
       "                 sprice\n",
       "date                   \n",
       "2013-01-01  2336.697144\n",
       "2013-01-02  2567.746356\n",
       "2013-01-03  2970.052353\n",
       "2013-01-06  2875.461487\n",
       "2013-01-07  2430.124514\n",
       "2013-01-08  2509.669617\n",
       "2013-01-09  2387.243846\n",
       "2013-01-10  2059.399641\n",
       "2013-01-13  3083.951884\n",
       "2013-01-14  2219.979867\n",
       "2013-01-15  2560.191492\n",
       "2013-01-16  2917.286669\n",
       "2013-01-17  2565.702922\n",
       "2013-01-20  2780.464933\n",
       "2013-01-21  2668.699346\n",
       "2013-01-22  2851.105155\n",
       "2013-01-23  2475.445884\n",
       "2013-01-24  2568.611381\n",
       "2013-01-27  3000.752264\n",
       "2013-01-28  2934.768284\n",
       "2013-01-29  2868.980558\n",
       "2013-01-30  3038.472382\n",
       "2013-01-31  3502.618043\n",
       "2013-02-03  2304.129883\n",
       "2013-02-04  2964.477994\n",
       "2013-02-05  3082.420590\n",
       "2013-02-06  2728.649359\n",
       "2013-02-07  2826.729016\n",
       "2013-02-10  2406.187091\n",
       "2013-02-11  2691.650242\n",
       "...                 ...\n",
       "2013-11-20  3342.003795\n",
       "2013-11-21  3508.217717\n",
       "2013-11-24  3418.997636\n",
       "2013-11-25  3510.428969\n",
       "2013-11-26  4485.855864\n",
       "2013-11-27  3520.576748\n",
       "2013-11-28  3651.117584\n",
       "2013-12-01  3535.820701\n",
       "2013-12-02  3472.384987\n",
       "2013-12-03  3609.504344\n",
       "2013-12-04  2949.386405\n",
       "2013-12-05  3183.449159\n",
       "2013-12-08  3428.686036\n",
       "2013-12-09  3623.022333\n",
       "2013-12-10  3844.100861\n",
       "2013-12-11  3532.793791\n",
       "2013-12-12  2784.376097\n",
       "2013-12-15  3070.271937\n",
       "2013-12-16  3973.463864\n",
       "2013-12-17  3277.309650\n",
       "2013-12-18  2880.760641\n",
       "2013-12-19  3793.270710\n",
       "2013-12-22  3076.448949\n",
       "2013-12-23  3347.492613\n",
       "2013-12-24  3641.646042\n",
       "2013-12-25  3722.940821\n",
       "2013-12-26  3613.242573\n",
       "2013-12-29  3257.799843\n",
       "2013-12-30  3668.181852\n",
       "2013-12-31  3099.382839\n",
       "\n",
       "[261 rows x 1 columns]"
      ]
     },
     "execution_count": 6,
     "metadata": {},
     "output_type": "execute_result"
    }
   ],
   "source": [
    "# Filter data for the full year 2013\n",
    "\n",
    "relind['2013']"
   ]
  },
  {
   "cell_type": "code",
   "execution_count": 7,
   "metadata": {},
   "outputs": [
    {
     "data": {
      "text/html": [
       "<div>\n",
       "<style scoped>\n",
       "    .dataframe tbody tr th:only-of-type {\n",
       "        vertical-align: middle;\n",
       "    }\n",
       "\n",
       "    .dataframe tbody tr th {\n",
       "        vertical-align: top;\n",
       "    }\n",
       "\n",
       "    .dataframe thead th {\n",
       "        text-align: right;\n",
       "    }\n",
       "</style>\n",
       "<table border=\"1\" class=\"dataframe\">\n",
       "  <thead>\n",
       "    <tr style=\"text-align: right;\">\n",
       "      <th></th>\n",
       "      <th>sprice</th>\n",
       "    </tr>\n",
       "    <tr>\n",
       "      <th>date</th>\n",
       "      <th></th>\n",
       "    </tr>\n",
       "  </thead>\n",
       "  <tbody>\n",
       "    <tr>\n",
       "      <th>2013-01-31</th>\n",
       "      <td>3502.618043</td>\n",
       "    </tr>\n",
       "  </tbody>\n",
       "</table>\n",
       "</div>"
      ],
      "text/plain": [
       "                 sprice\n",
       "date                   \n",
       "2013-01-31  3502.618043"
      ]
     },
     "execution_count": 7,
     "metadata": {},
     "output_type": "execute_result"
    }
   ],
   "source": [
    "# Filter data for a specific date (eg: 2013-1-31)\n",
    "\n",
    "relind['2013-1-31':'2013-1-31']"
   ]
  },
  {
   "cell_type": "markdown",
   "metadata": {},
   "source": [
    "We can also get group summaries like mean, standard deviation, variance, max, min etc for a given year, month or any period between two dates."
   ]
  },
  {
   "cell_type": "code",
   "execution_count": 8,
   "metadata": {},
   "outputs": [
    {
     "name": "stdout",
     "output_type": "stream",
     "text": [
      "date\n",
      "2013-01-31    3502.618043\n",
      "Name: sprice, dtype: float64\n",
      "2623.516578995169\n",
      "4485.8558643840315\n",
      "2052.8803071490993\n",
      "409.801644896091\n"
     ]
    }
   ],
   "source": [
    "# use summary functions to get summariae data\n",
    "\n",
    "print(relind['2013-1-31':'2013-1-31'].sprice)\n",
    "print(relind['2013-2'].sprice.mean())\n",
    "print(relind['2013'].sprice.max())\n",
    "print(relind['2013' : '2015'].sprice.min())\n",
    "print(relind['2013'].sprice.std())"
   ]
  },
  {
   "cell_type": "markdown",
   "metadata": {},
   "source": [
    "we can also use resample method to get monthly averages for a given year. Or yearly average for whole data set. Note that this operation takes the daily data for the grouping period and computes the average or the required statistic."
   ]
  },
  {
   "cell_type": "code",
   "execution_count": 11,
   "metadata": {},
   "outputs": [
    {
     "name": "stdout",
     "output_type": "stream",
     "text": [
      "date\n",
      "2013-01-31    2703.192436\n",
      "2013-02-28    2623.516579\n",
      "2013-03-31    2619.245935\n",
      "2013-04-30    2807.946289\n",
      "2013-05-31    2916.875320\n",
      "2013-06-30    2906.443495\n",
      "2013-07-31    3080.658834\n",
      "2013-08-31    3069.215815\n",
      "2013-09-30    3187.185973\n",
      "2013-10-31    3436.649572\n",
      "2013-11-30    3369.779350\n",
      "2013-12-31    3408.075524\n",
      "Freq: M, Name: sprice, dtype: float64\n",
      "date\n",
      "2011-12-31    1160.722798\n",
      "2012-12-31    2108.239438\n",
      "2013-12-31    3014.867249\n",
      "2014-12-31    3923.460761\n",
      "2015-12-31    4872.335102\n",
      "2016-12-31    5728.765374\n",
      "2017-12-31    6747.895394\n",
      "2018-12-31    7594.882962\n",
      "Freq: A-DEC, Name: sprice, dtype: float64\n"
     ]
    }
   ],
   "source": [
    "# use resample method to get monthly averages for a given year. \n",
    "# Use 'M', 'Q', 'Y' as resample parameter for\n",
    "# month, quarter or year respectively. \n",
    "\n",
    "print(relind['2013'].sprice.resample('M').mean())\n",
    "print(relind.sprice.resample('A').mean()) # A for annual"
   ]
  },
  {
   "cell_type": "code",
   "execution_count": 12,
   "metadata": {},
   "outputs": [
    {
     "name": "stdout",
     "output_type": "stream",
     "text": [
      "date\n",
      "2013-01-01    2703.192436\n",
      "2013-02-01    2623.516579\n",
      "2013-03-01    2619.245935\n",
      "2013-04-01    2807.946289\n",
      "2013-05-01    2916.875320\n",
      "2013-06-01    2906.443495\n",
      "2013-07-01    3080.658834\n",
      "2013-08-01    3069.215815\n",
      "2013-09-01    3187.185973\n",
      "2013-10-01    3436.649572\n",
      "2013-11-01    3369.779350\n",
      "2013-12-01    3408.075524\n",
      "Freq: MS, Name: sprice, dtype: float64\n",
      "date\n",
      "2014-01-01    3572.364159\n",
      "2014-04-01    3793.138729\n",
      "2014-07-01    4017.878002\n",
      "2014-10-01    4297.848286\n",
      "2015-01-01    4527.930061\n",
      "2015-04-01    4687.444108\n",
      "2015-07-01    5059.914643\n",
      "2015-10-01    5200.813699\n",
      "Freq: QS-JAN, Name: sprice, dtype: float64\n"
     ]
    }
   ],
   "source": [
    "# Notice that above displays last date of the month or year. \n",
    "# We can change the subscript to first day by using \n",
    "# MS, QS or YS instead of M, Q, Y respectively.\n",
    "\n",
    "print(relind['2013'].sprice.resample('MS').mean())\n",
    "print(relind['2014':'2015'].sprice.resample('QS').mean())"
   ]
  },
  {
   "cell_type": "markdown",
   "metadata": {},
   "source": [
    "We demonstate below the strptime function to split a datetime variable into its components such as date, month, year, hour, minute, second etc."
   ]
  },
  {
   "cell_type": "code",
   "execution_count": 13,
   "metadata": {},
   "outputs": [
    {
     "name": "stdout",
     "output_type": "stream",
     "text": [
      "2018-09-19\n",
      "13:55:26\n",
      "19\n",
      "9\n",
      "2018\n"
     ]
    }
   ],
   "source": [
    "dt = datetime.strptime('sep/19/18 13:55:26','%b/%d/%y %H:%M:%S')\n",
    "\n",
    "print(dt.date()) # complete date\n",
    "print(dt.time()) # only time details\n",
    "print(dt.day)    # date alone\n",
    "print(dt.month)  # month alone\n",
    "print(dt.year)   # year alone"
   ]
  },
  {
   "cell_type": "markdown",
   "metadata": {},
   "source": [
    "Please recall that time series data is a single variable indexed by time. Many Time Series Analysis methods use the variable in the form of series. We do this for relind['sprice'] variable below.    "
   ]
  },
  {
   "cell_type": "code",
   "execution_count": 14,
   "metadata": {},
   "outputs": [],
   "source": [
    "series = Series(relind.sprice)"
   ]
  },
  {
   "cell_type": "markdown",
   "metadata": {},
   "source": [
    "**Time Series Visualization** is a very important preliminary activity in time series model building. Visually inspecting the time series and observe the pattern and anomolies, if any makes us decide what forecasting method to use and how to handle anamolies seen in the data. In the following steps we will demonstate how to analyze time series data graphically. For this purpose, we will use Matplotlib and seaborn packages. Please load these libraries before proceeding if not already done so (i.e. if you are restarting the session after break.)"
   ]
  },
  {
   "cell_type": "code",
   "execution_count": 15,
   "metadata": {},
   "outputs": [
    {
     "data": {
      "text/plain": [
       "Text(0.5, 1.0, 'Reliance Daily Stock Price \\n From 2011 to 2018')"
      ]
     },
     "execution_count": 15,
     "metadata": {},
     "output_type": "execute_result"
    },
    {
     "data": {
      "image/png": "[encoded data removed]",
      "text/plain": [
       "<Figure size 864x720 with 1 Axes>"
      ]
     },
     "metadata": {
      "needs_background": "light"
     },
     "output_type": "display_data"
    }
   ],
   "source": [
    "# visualizing time series\n",
    "\n",
    "# plot the time series data\n",
    "\n",
    "series.plot(figsize=(12,10))\n",
    "plt.xlabel('Year', fontsize=20)\n",
    "plt.ylabel('Stock Price', fontsize=20)\n",
    "plt.title('Reliance Daily Stock Price \\n From 2011 to 2018', fontsize=20)"
   ]
  },
  {
   "cell_type": "code",
   "execution_count": 16,
   "metadata": {},
   "outputs": [
    {
     "name": "stdout",
     "output_type": "stream",
     "text": [
      "             1            2            3            4            5   \\\n",
      "0   2336.697144  2304.129883  2544.942924  2859.256117  3117.088456   \n",
      "1   2567.746356  2964.477994  2384.717769  2619.469800  2950.690590   \n",
      "2   2970.052353  3082.420590  2718.363010  3143.690814  3026.924159   \n",
      "3   2875.461487  2728.649359  3246.869761  3313.576491  3124.654054   \n",
      "4   2430.124514  2826.729016  2775.565397  3055.899299  2660.444895   \n",
      "5   2509.669617  2406.187091  2109.599189  2355.168487  3041.494716   \n",
      "6   2387.243846  2691.650242  3196.252934  2775.862380  3054.488150   \n",
      "7   2059.399641  2118.578772  2840.852634  2374.446321  2939.136156   \n",
      "8   3083.951884  2629.118895  2446.583072  2695.358587  2804.714360   \n",
      "9   2219.979867  2694.409358  2843.371196  2408.352393  2909.262255   \n",
      "10  2560.191492  2454.667224  2716.055152  2916.408628  2800.101151   \n",
      "11  2917.286669  2779.296710  2184.629833  3312.959988  3082.229702   \n",
      "12  2565.702922  2500.218876  2052.880307  3022.133918  2729.931652   \n",
      "13  2780.464933  2897.290264  2569.773237  2760.936749  2925.683155   \n",
      "14  2668.699346  2833.423396  2810.021450  2743.844449  2800.131998   \n",
      "15  2851.105155  2210.556850  2621.642274  2680.736739  2630.318315   \n",
      "16  2475.445884  2239.504442  2534.916042  2521.327994  3442.291851   \n",
      "17  2568.611381  2920.680477  2776.198606  2735.957038  2884.428900   \n",
      "18  3000.752264  2256.037593  2675.757173  2834.463751  3005.791655   \n",
      "19  2934.768284  2932.304549  2499.033772  2786.800239  2902.224141   \n",
      "20  2868.980558          NaN  2456.138912  2943.794803  2494.739181   \n",
      "21  3038.472382          NaN          NaN  2914.373383  2844.487542   \n",
      "22  3502.618043          NaN          NaN          NaN          NaN   \n",
      "\n",
      "             6            7            8            9            10  \\\n",
      "0   2313.779915  2954.717553  3189.050236  3703.803996  3898.801108   \n",
      "1   2782.350508  3060.066260  2692.306437  3234.860254  3300.921651   \n",
      "2   2831.391006  3094.997797  2600.201433  3050.379976  3381.010649   \n",
      "3   2439.519195  3058.676453  3398.109368  3505.720841  3681.692816   \n",
      "4   2663.846001  2857.174337  2999.626091  2599.286627  3138.568944   \n",
      "5   2812.843173  3070.857928  2855.832776  3065.988609  2950.080797   \n",
      "6   2922.245353  3497.151713  2888.522526  2846.033495  3554.486802   \n",
      "7   3450.188402  3177.031555  3197.506310  3283.399111  3318.542826   \n",
      "8   3145.185525  3073.527751  3504.404002  3624.732084  3223.881330   \n",
      "9   3426.065828  2739.434359  2914.376127  3124.432264  3537.069486   \n",
      "10  2530.237244  3286.966823  3066.433367  3213.147004  3781.108930   \n",
      "11  2902.607940  3071.474356  3260.762084  2823.015481  3581.246797   \n",
      "12  2819.290235  3026.783106  2886.953424  2959.860768  3293.506025   \n",
      "13  3163.755283  3015.604985  3031.747646  2744.481119  3560.679364   \n",
      "14  2460.653030  2911.921791  3247.294526  3342.195092  3440.176602   \n",
      "15  3003.789569  3483.435473  3025.075493  2839.010387  3267.891609   \n",
      "16  2436.198051  3073.090745  3052.382050  3585.575609  3517.154041   \n",
      "17  2863.484985  2902.430897  3023.399395  3110.100306  3812.842381   \n",
      "18  3355.169174  2848.170226  3022.876821  3204.507438  3438.647198   \n",
      "19  3135.431238  2997.804742  3007.077796  3303.551100  2939.697786   \n",
      "20  3577.281743  3678.842407  3589.594206  3365.832494  3512.229891   \n",
      "21          NaN  3094.212956          NaN  3588.177346  3710.485761   \n",
      "22          NaN  2880.778958          NaN          NaN  3202.217366   \n",
      "\n",
      "             11           12  \n",
      "0   3337.142909  3535.820701  \n",
      "1   3526.856212  3472.384987  \n",
      "2   3033.994166  3609.504344  \n",
      "3   2606.285056  2949.386405  \n",
      "4   3240.292919  3183.449159  \n",
      "5   2345.916506  3428.686036  \n",
      "6   3946.175665  3623.022333  \n",
      "7   3825.549688  3844.100861  \n",
      "8   3211.134836  3532.793791  \n",
      "9   3081.663065  2784.376097  \n",
      "10  3218.376609  3070.271937  \n",
      "11  3400.216089  3973.463864  \n",
      "12  3184.784955  3277.309650  \n",
      "13  3342.003795  2880.760641  \n",
      "14  3508.217717  3793.270710  \n",
      "15  3418.997636  3076.448949  \n",
      "16  3510.428969  3347.492613  \n",
      "17  4485.855864  3641.646042  \n",
      "18  3520.576748  3722.940821  \n",
      "19  3651.117584  3613.242573  \n",
      "20          NaN  3257.799843  \n",
      "21          NaN  3668.181852  \n",
      "22          NaN  3099.382839  \n"
     ]
    },
    {
     "data": {
      "text/plain": [
       "Text(0.5, 1.0, 'Box Plot \\n Reliance Month-wise Stock Price')"
      ]
     },
     "execution_count": 16,
     "metadata": {},
     "output_type": "execute_result"
    },
    {
     "data": {
      "image/png": "[encoded data removed]",
      "text/plain": [
       "<Figure size 864x432 with 1 Axes>"
      ]
     },
     "metadata": {
      "needs_background": "light"
     },
     "output_type": "display_data"
    }
   ],
   "source": [
    "# visualize monthly boxplots for 2013\n",
    "\n",
    "sprice13 = series['2013']\n",
    "\n",
    "# split yearly data as groups of monthly data\n",
    "\n",
    "mgrps13 =  sprice13.groupby(Grouper(freq='M'))\n",
    "\n",
    "# concatenate monthly data as columns of a dataframe\n",
    "\n",
    "mprice13 = concat([DataFrame(x[1].values) for x in mgrps13], axis=1)\n",
    "mprice13 = DataFrame(mprice13)\n",
    "\n",
    "# add column names \n",
    "\n",
    "mprice13.columns = range(1,13)\n",
    "\n",
    "print (mprice13)\n",
    "\n",
    "# plot the box plot\n",
    "\n",
    "mprice13.boxplot(grid=False, figsize=(12,6))\n",
    "plt.xlabel('Month', fontsize=20)\n",
    "plt.ylabel('Stock Price', fontsize=20)\n",
    "plt.title('Box Plot \\n Reliance Month-wise Stock Price', fontsize=20)\n"
   ]
  },
  {
   "cell_type": "code",
   "execution_count": 17,
   "metadata": {},
   "outputs": [
    {
     "data": {
      "text/plain": [
       "Text(0.5, 1.0, 'Box Plot \\n Reliance Year-wise Stock Price')"
      ]
     },
     "execution_count": 17,
     "metadata": {},
     "output_type": "execute_result"
    },
    {
     "data": {
      "image/png": "[encoded data removed]",
      "text/plain": [
       "<Figure size 864x432 with 1 Axes>"
      ]
     },
     "metadata": {
      "needs_background": "light"
     },
     "output_type": "display_data"
    }
   ],
   "source": [
    "# Group the data by year, then plot the box plot \n",
    "\n",
    "ygrps = series.groupby(Grouper(freq='A')) \n",
    "ygrps.groups\n",
    "\n",
    "yprice = concat([DataFrame(x[1].values) for x in ygrps], axis=1)\n",
    "yprice = DataFrame(yprice)\n",
    "\n",
    "# add column names \n",
    "\n",
    "yprice.columns = range(2011, 2019)\n",
    "\n",
    "yprice.boxplot(grid=False, figsize=(12,6))\n",
    "plt.xlabel('Year', fontsize=20)\n",
    "plt.ylabel('Stock Price', fontsize=20)\n",
    "plt.title('Box Plot \\n Reliance Year-wise Stock Price', fontsize=20)"
   ]
  },
  {
   "cell_type": "code",
   "execution_count": 18,
   "metadata": {},
   "outputs": [
    {
     "data": {
      "text/plain": [
       "<matplotlib.image.AxesImage at 0x244835d8c50>"
      ]
     },
     "execution_count": 18,
     "metadata": {},
     "output_type": "execute_result"
    },
    {
     "data": {
      "text/plain": [
       "<Figure size 864x648 with 0 Axes>"
      ]
     },
     "metadata": {},
     "output_type": "display_data"
    },
    {
     "data": {
      "image/png": "[encoded data removed]",
      "text/plain": [
       "<Figure size 1152x144 with 1 Axes>"
      ]
     },
     "metadata": {
      "needs_background": "light"
     },
     "output_type": "display_data"
    }
   ],
   "source": [
    "# year-wise heatmap\n",
    "plt.figure(figsize=(12,9))\n",
    "yprice = yprice.T\n",
    "plt.matshow(yprice, interpolation=None, aspect='auto')"
   ]
  },
  {
   "cell_type": "markdown",
   "metadata": {},
   "source": [
    "Time Series Analysis of Retail Food Store Data (file name = retailfoodstore.csv). In this file the period is in two columns namely, month and year. so we need to parse date accordingly. See the code below:"
   ]
  },
  {
   "cell_type": "code",
   "execution_count": 20,
   "metadata": {},
   "outputs": [
    {
     "name": "stdout",
     "output_type": "stream",
     "text": [
      "            revenue\n",
      "year_month         \n",
      "1992-01-01   164083\n",
      "1992-02-01   164260\n",
      "1992-03-01   163747\n",
      "1992-04-01   164759\n",
      "1992-05-01   165617\n",
      "<class 'pandas.core.frame.DataFrame'>\n",
      "DatetimeIndex: 310 entries, 1992-01-01 to 2017-10-01\n",
      "Data columns (total 1 columns):\n",
      "revenue    310 non-null int64\n",
      "dtypes: int64(1)\n",
      "memory usage: 4.8 KB\n",
      "None\n",
      "DatetimeIndex(['1992-01-01', '1992-02-01', '1992-03-01', '1992-04-01',\n",
      "               '1992-05-01', '1992-06-01', '1992-07-01', '1992-08-01',\n",
      "               '1992-09-01', '1992-10-01', '1992-11-01', '1992-12-01',\n",
      "               '1993-01-01', '1993-02-01', '1993-03-01', '1993-04-01',\n",
      "               '1993-05-01', '1993-06-01', '1993-07-01', '1993-08-01'],\n",
      "              dtype='datetime64[ns]', name='year_month', freq=None)\n"
     ]
    }
   ],
   "source": [
    "rfstore = pd.read_csv(\"retailfoodstore.csv\", parse_dates = [['year', 'month']], index_col=0)\n",
    "\n",
    "print(rfstore.head())\n",
    "print(rfstore.info())\n",
    "print(rfstore.index[0:20])"
   ]
  },
  {
   "cell_type": "code",
   "execution_count": 21,
   "metadata": {},
   "outputs": [
    {
     "data": {
      "text/plain": [
       "Text(0.5, 1.0, 'Line Plot of Food Store Revenue')"
      ]
     },
     "execution_count": 21,
     "metadata": {},
     "output_type": "execute_result"
    },
    {
     "data": {
      "image/png": "[encoded data removed]",
      "text/plain": [
       "<Figure size 864x720 with 1 Axes>"
      ]
     },
     "metadata": {
      "needs_background": "light"
     },
     "output_type": "display_data"
    }
   ],
   "source": [
    "# now plot the series\n",
    "\n",
    "rfstore.plot(figsize=(12,10))\n",
    "plt.xlabel('Year', fontsize = 20)\n",
    "plt.ylabel('Food Revenue', fontsize = 20)\n",
    "plt.title('Line Plot of Food Store Revenue', fontsize= 20)"
   ]
  },
  {
   "cell_type": "markdown",
   "metadata": {},
   "source": [
    "Recall the discussion on trend in the class earlier today. Presence of trend indicates non-stationarity and time series analysis is not possible when trend is present. So we need to detrend the data. Thsi can be done by creating a series with y value at time t as difference between value at time t and value at t-1. This operation is demonstrated below: "
   ]
  },
  {
   "cell_type": "code",
   "execution_count": 22,
   "metadata": {},
   "outputs": [
    {
     "data": {
      "text/plain": [
       "year_month\n",
       "1992-01-01       NaN\n",
       "1992-02-01     177.0\n",
       "1992-03-01    -513.0\n",
       "1992-04-01    1012.0\n",
       "1992-05-01     858.0\n",
       "Name: revenue, dtype: float64"
      ]
     },
     "execution_count": 22,
     "metadata": {},
     "output_type": "execute_result"
    }
   ],
   "source": [
    "# we are using diff() function to detrend the data.\n",
    "\n",
    "rev = rfstore.revenue\n",
    "revdiff = rev.diff()\n",
    "revdiff.head()"
   ]
  },
  {
   "cell_type": "markdown",
   "metadata": {},
   "source": [
    "Notice the NaN at row 0. A 'NaN' is not allowed in time series data, Therefore we will drop this observation."
   ]
  },
  {
   "cell_type": "code",
   "execution_count": 23,
   "metadata": {},
   "outputs": [
    {
     "data": {
      "text/plain": [
       "year_month\n",
       "1992-02-01     177.0\n",
       "1992-03-01    -513.0\n",
       "1992-04-01    1012.0\n",
       "1992-05-01     858.0\n",
       "1992-06-01     481.0\n",
       "Name: revenue, dtype: float64"
      ]
     },
     "execution_count": 23,
     "metadata": {},
     "output_type": "execute_result"
    }
   ],
   "source": [
    "revdiff.dropna(inplace=True)\n",
    "revdiff.head()"
   ]
  },
  {
   "cell_type": "code",
   "execution_count": 24,
   "metadata": {},
   "outputs": [
    {
     "data": {
      "image/png": "[encoded data removed]",
      "text/plain": [
       "<Figure size 432x288 with 1 Axes>"
      ]
     },
     "metadata": {
      "needs_background": "light"
     },
     "output_type": "display_data"
    }
   ],
   "source": [
    "# Now plot the difference series\n",
    "\n",
    "plt.plot(revdiff) \n",
    "plt.show()\n",
    "\n",
    "# Notice that the series has become stationary and the mean is about 0."
   ]
  },
  {
   "cell_type": "markdown",
   "metadata": {},
   "source": [
    "In the following example we look at tractor sales data. The relevant file is tractorsales.csv. In this file, notice that year is given in yy-Mon format. We will demonstate below how to handle this variable."
   ]
  },
  {
   "cell_type": "code",
   "execution_count": 26,
   "metadata": {
    "scrolled": true
   },
   "outputs": [
    {
     "data": {
      "text/html": [
       "<div>\n",
       "<style scoped>\n",
       "    .dataframe tbody tr th:only-of-type {\n",
       "        vertical-align: middle;\n",
       "    }\n",
       "\n",
       "    .dataframe tbody tr th {\n",
       "        vertical-align: top;\n",
       "    }\n",
       "\n",
       "    .dataframe thead th {\n",
       "        text-align: right;\n",
       "    }\n",
       "</style>\n",
       "<table border=\"1\" class=\"dataframe\">\n",
       "  <thead>\n",
       "    <tr style=\"text-align: right;\">\n",
       "      <th></th>\n",
       "      <th>year-month</th>\n",
       "      <th>No_Sold</th>\n",
       "    </tr>\n",
       "  </thead>\n",
       "  <tbody>\n",
       "    <tr>\n",
       "      <th>0</th>\n",
       "      <td>03-Jan</td>\n",
       "      <td>141</td>\n",
       "    </tr>\n",
       "    <tr>\n",
       "      <th>1</th>\n",
       "      <td>03-Feb</td>\n",
       "      <td>157</td>\n",
       "    </tr>\n",
       "    <tr>\n",
       "      <th>2</th>\n",
       "      <td>03-Mar</td>\n",
       "      <td>185</td>\n",
       "    </tr>\n",
       "    <tr>\n",
       "      <th>3</th>\n",
       "      <td>03-Apr</td>\n",
       "      <td>199</td>\n",
       "    </tr>\n",
       "    <tr>\n",
       "      <th>4</th>\n",
       "      <td>03-May</td>\n",
       "      <td>203</td>\n",
       "    </tr>\n",
       "  </tbody>\n",
       "</table>\n",
       "</div>"
      ],
      "text/plain": [
       "  year-month  No_Sold\n",
       "0     03-Jan      141\n",
       "1     03-Feb      157\n",
       "2     03-Mar      185\n",
       "3     03-Apr      199\n",
       "4     03-May      203"
      ]
     },
     "execution_count": 26,
     "metadata": {},
     "output_type": "execute_result"
    }
   ],
   "source": [
    "# tractor sale example\n",
    "\n",
    "tractor = pd.read_csv('tractorsales.csv')\n",
    "tractor.head()\n",
    "\n",
    "# year month format is different\n",
    "# we need to convert the same\n",
    "# let us create separate year month columns\n",
    "# and combine them"
   ]
  },
  {
   "cell_type": "code",
   "execution_count": 27,
   "metadata": {},
   "outputs": [
    {
     "data": {
      "text/html": [
       "<div>\n",
       "<style scoped>\n",
       "    .dataframe tbody tr th:only-of-type {\n",
       "        vertical-align: middle;\n",
       "    }\n",
       "\n",
       "    .dataframe tbody tr th {\n",
       "        vertical-align: top;\n",
       "    }\n",
       "\n",
       "    .dataframe thead th {\n",
       "        text-align: right;\n",
       "    }\n",
       "</style>\n",
       "<table border=\"1\" class=\"dataframe\">\n",
       "  <thead>\n",
       "    <tr style=\"text-align: right;\">\n",
       "      <th></th>\n",
       "      <th>year-month</th>\n",
       "      <th>No_Sold</th>\n",
       "      <th>month</th>\n",
       "      <th>year</th>\n",
       "    </tr>\n",
       "  </thead>\n",
       "  <tbody>\n",
       "    <tr>\n",
       "      <th>0</th>\n",
       "      <td>03-Jan</td>\n",
       "      <td>141</td>\n",
       "      <td>1</td>\n",
       "      <td>2003</td>\n",
       "    </tr>\n",
       "    <tr>\n",
       "      <th>1</th>\n",
       "      <td>03-Feb</td>\n",
       "      <td>157</td>\n",
       "      <td>2</td>\n",
       "      <td>2003</td>\n",
       "    </tr>\n",
       "    <tr>\n",
       "      <th>2</th>\n",
       "      <td>03-Mar</td>\n",
       "      <td>185</td>\n",
       "      <td>3</td>\n",
       "      <td>2003</td>\n",
       "    </tr>\n",
       "    <tr>\n",
       "      <th>3</th>\n",
       "      <td>03-Apr</td>\n",
       "      <td>199</td>\n",
       "      <td>4</td>\n",
       "      <td>2003</td>\n",
       "    </tr>\n",
       "    <tr>\n",
       "      <th>4</th>\n",
       "      <td>03-May</td>\n",
       "      <td>203</td>\n",
       "      <td>5</td>\n",
       "      <td>2003</td>\n",
       "    </tr>\n",
       "  </tbody>\n",
       "</table>\n",
       "</div>"
      ],
      "text/plain": [
       "  year-month  No_Sold  month  year\n",
       "0     03-Jan      141      1  2003\n",
       "1     03-Feb      157      2  2003\n",
       "2     03-Mar      185      3  2003\n",
       "3     03-Apr      199      4  2003\n",
       "4     03-May      203      5  2003"
      ]
     },
     "execution_count": 27,
     "metadata": {},
     "output_type": "execute_result"
    }
   ],
   "source": [
    "# import calender package for following functions to work.\n",
    "# define date index, number of periods being equal to length of the data set.\n",
    "\n",
    "dates = pd.date_range(start='2003-01-01', freq='MS', periods=len(tractor))\n",
    "dates\n",
    "\n",
    "# create month and year columns separately. \n",
    "\n",
    "tractor['month'] = dates.month\n",
    "tractor['year'] = dates.year\n",
    "\n",
    "tractor.head()"
   ]
  },
  {
   "cell_type": "markdown",
   "metadata": {},
   "source": [
    "In the following steps, we are going to clean up the table. \n",
    "1.  Drop the column 'year-month'.\n",
    "2.  Rename the columns properly.\n",
    "3.  Make dates as the index for the table\n",
    "4.  Create a series of 'Tractors_sold' with time as index."
   ]
  },
  {
   "cell_type": "code",
   "execution_count": 28,
   "metadata": {},
   "outputs": [
    {
     "data": {
      "text/html": [
       "<div>\n",
       "<style scoped>\n",
       "    .dataframe tbody tr th:only-of-type {\n",
       "        vertical-align: middle;\n",
       "    }\n",
       "\n",
       "    .dataframe tbody tr th {\n",
       "        vertical-align: top;\n",
       "    }\n",
       "\n",
       "    .dataframe thead th {\n",
       "        text-align: right;\n",
       "    }\n",
       "</style>\n",
       "<table border=\"1\" class=\"dataframe\">\n",
       "  <thead>\n",
       "    <tr style=\"text-align: right;\">\n",
       "      <th></th>\n",
       "      <th>tractors_sold</th>\n",
       "    </tr>\n",
       "  </thead>\n",
       "  <tbody>\n",
       "    <tr>\n",
       "      <th>2003-01-01</th>\n",
       "      <td>141</td>\n",
       "    </tr>\n",
       "    <tr>\n",
       "      <th>2003-02-01</th>\n",
       "      <td>157</td>\n",
       "    </tr>\n",
       "    <tr>\n",
       "      <th>2003-03-01</th>\n",
       "      <td>185</td>\n",
       "    </tr>\n",
       "    <tr>\n",
       "      <th>2003-04-01</th>\n",
       "      <td>199</td>\n",
       "    </tr>\n",
       "    <tr>\n",
       "      <th>2003-05-01</th>\n",
       "      <td>203</td>\n",
       "    </tr>\n",
       "  </tbody>\n",
       "</table>\n",
       "</div>"
      ],
      "text/plain": [
       "            tractors_sold\n",
       "2003-01-01            141\n",
       "2003-02-01            157\n",
       "2003-03-01            185\n",
       "2003-04-01            199\n",
       "2003-05-01            203"
      ]
     },
     "execution_count": 28,
     "metadata": {},
     "output_type": "execute_result"
    }
   ],
   "source": [
    "tractor.drop(['year-month'], axis=1, inplace=True)\n",
    "tractor.rename(columns={'No_Sold':'tractors_sold'}, inplace=True)\n",
    "tractor = tractor[['month', 'year', 'tractors_sold']]\n",
    "tractor.index = dates\n",
    "tractor = tractor[['tractors_sold']]\n",
    "tractor.head()"
   ]
  },
  {
   "cell_type": "code",
   "execution_count": 29,
   "metadata": {},
   "outputs": [
    {
     "data": {
      "text/plain": [
       "Text(0.5, 1.0, 'Tractor sales from 2003 to 2014')"
      ]
     },
     "execution_count": 29,
     "metadata": {},
     "output_type": "execute_result"
    },
    {
     "data": {
      "image/png": "[encoded data removed]",
      "text/plain": [
       "<Figure size 432x288 with 1 Axes>"
      ]
     },
     "metadata": {
      "needs_background": "light"
     },
     "output_type": "display_data"
    }
   ],
   "source": [
    "# plot tractor sales\n",
    "\n",
    "tractor.plot()\n",
    "plt.xlabel('Year', fontsize=20)\n",
    "plt.ylabel('No of tractors sold', fontsize=20)\n",
    "plt.title(\"Tractor sales from 2003 to 2014\", fontsize=20)"
   ]
  },
  {
   "cell_type": "markdown",
   "metadata": {},
   "source": [
    "-------------------------------------------- End of Lab ----------------------------------------------"
   ]
  }
 ],
 "metadata": {
  "kernelspec": {
   "display_name": "Python 3",
   "language": "python",
   "name": "python3"
  },
  "language_info": {
   "codemirror_mode": {
    "name": "ipython",
    "version": 3
   },
   "file_extension": ".py",
   "mimetype": "text/x-python",
   "name": "python",
   "nbconvert_exporter": "python",
   "pygments_lexer": "ipython3",
   "version": "3.7.3"
  }
 },
 "nbformat": 4,
 "nbformat_minor": 2
}
