{
 "cells": [
  {
   "cell_type": "code",
   "execution_count": 1,
   "metadata": {},
   "outputs": [],
   "source": [
    "import time\n",
    "import pandas as pd\n",
    "import tkinter as tk\n",
    "from tkinter import filedialog\n",
    "from itertools import permutations\n",
    "from collections import deque\n",
    "import numpy as np"
   ]
  },
  {
   "cell_type": "code",
   "execution_count": 2,
   "metadata": {
    "scrolled": false
   },
   "outputs": [
    {
     "name": "stdout",
     "output_type": "stream",
     "text": [
      "------------------------------------------------------------------------\n",
      "                    Job Tasks Optimization Program:                     \n",
      "------------------------------------------------------------------------\n",
      "\n",
      "\n",
      "------------------------------------------------------------------------\n",
      "|          Now this Program can Optimize N number of Jobs.             |\n",
      "|              Please Select the xls format file:                      |\n",
      "------------------------------------------------------------------------\n",
      "1821 => 34\n",
      "1298 => 33\n",
      "1000 => 31\n",
      "828 => 26\n",
      "721 => 23\n",
      "712m => 13\n",
      "744 => 5\n",
      "1356 => 5\n",
      "1567 => 2\n",
      "1826 => 1\n",
      "------------------------------------------------------------------------\n",
      "Unique count of tasks 89\n",
      "------------------------------------------------------------------------\n"
     ]
    }
   ],
   "source": [
    "global que\n",
    "\n",
    "print(\"------------------------------------------------------------------------\")\n",
    "print(\"                    Job Tasks Optimization Program:                     \")\n",
    "print(\"------------------------------------------------------------------------\")\n",
    "print(\"\\n\")\n",
    "print(\"------------------------------------------------------------------------\")\n",
    "print(\"|          Now this Program can Optimize N number of Jobs.             |\")\n",
    "print(\"|              Please Select the xls format file:                      |\")\n",
    "print(\"------------------------------------------------------------------------\")\n",
    "root = tk.Tk()\n",
    "root.withdraw()\n",
    "\n",
    "file_path = filedialog.askopenfilename()\n",
    "\n",
    "#print(pd.read_csv(file_path).head())\n",
    "file = pd.ExcelFile(file_path )\n",
    "\n",
    "\n",
    "\n",
    "# to read all sheets to a map\n",
    "Data = {}\n",
    "for sheet_name in file.sheet_names:\n",
    "    Data[sheet_name] = file.parse(sheet_name, header=None, usecols=[0], index_col=False).iloc[:,0].to_list()\n",
    "\n",
    "#print(file.parse('A', header=None, usecols=[0], index_col=False).iloc[:,0].to_list())\n",
    "\n",
    "\n",
    "    \n",
    "\n",
    "'''print(Data)\n",
    "print(len(Data))\n",
    "'''\n",
    "for key,val in Data.items():\n",
    "    print(key, \"=>\", len(val)) \n",
    "    \n",
    "print(\"------------------------------------------------------------------------\")\n",
    "l =[]\n",
    "#newlist = map(str.upper, oldlist)\n",
    "for i in Data.values():\n",
    "    l.extend(i)\n",
    "    \n",
    "print(\"Unique count of tasks\", len(set(l)))\n",
    "print(\"------------------------------------------------------------------------\")\n"
   ]
  },
  {
   "cell_type": "code",
   "execution_count": 3,
   "metadata": {},
   "outputs": [
    {
     "name": "stdout",
     "output_type": "stream",
     "text": [
      "Enter Feeder size (Queue Size) :48\n",
      "\n",
      "\n"
     ]
    }
   ],
   "source": [
    "max_size = int(input(\"Enter Feeder size (Queue Size) :\"))\n",
    "que = deque(maxlen= max_size)\n",
    "print(\"\\n\")"
   ]
  },
  {
   "cell_type": "code",
   "execution_count": 12,
   "metadata": {},
   "outputs": [],
   "source": [
    "class JobTask():\n",
    "    \"This is Job Task Management class\"\n",
    "    que.clear()\n",
    "    count = 0\n",
    "    def __init__(self,*args):\n",
    "        self.args = args\n",
    "    \n",
    "    def cal(self,z):\n",
    "        # From previous funtion of O(n2)\n",
    "        for j in z:\n",
    "            if j not in list(que):\n",
    "                if len(que) < max_size:\n",
    "                    que.append(j)\n",
    "                    self.count +=1\n",
    "                #print(j)\n",
    "                #print('Queue',list(que))\n",
    "                else:\n",
    "                    que.popleft()\n",
    "                    que.append(j)\n",
    "                    self.count +=2\n",
    "                #print(j)\n",
    "                #print('Queue',list(que))\n",
    "            else:\n",
    "                pass\n",
    "        \n",
    "        return self.count\n",
    "    \n",
    "    def opt_function(self, *args):\n",
    "        que.extend(self.args[0])\n",
    "        #complexsity O(n) depending on Argument length.\n",
    "        for j in self.args[1:len(self.args)]:\n",
    "            self.cal(j)\n",
    "        \n",
    "        return self.count"
   ]
  },
  {
   "cell_type": "code",
   "execution_count": 13,
   "metadata": {},
   "outputs": [],
   "source": [
    "import threading\n",
    "global result1, result2, result3, result4\n",
    "\n",
    "def fun1(permList,permString, result):\n",
    "    for perm, stri in zip(permList, permString):\n",
    "        #print(\"thread 1\")#stri,\"*\" *5 ,perm)\n",
    "        x=[]\n",
    "        jb = JobTask(*perm)\n",
    "        r = jb.opt_function()\n",
    "        x.append(stri)\n",
    "        #x.extend(perm)\n",
    "        x.append(r)\n",
    "        result.append(x)\n",
    "        del jb\n",
    "        \n",
    "    return result"
   ]
  },
  {
   "cell_type": "code",
   "execution_count": 14,
   "metadata": {},
   "outputs": [
    {
     "name": "stdout",
     "output_type": "stream",
     "text": [
      "-----------------------------------------------------------------------\n",
      "Time Taken tO Execute :\n",
      "504.691632270813 Sec\n"
     ]
    }
   ],
   "source": [
    "\n",
    "if __name__ == \"__main__\":\n",
    "    s = time.time()\n",
    "    permList = list(permutations(Data.values()))\n",
    "    permString = list(permutations(Data.keys()))\n",
    "    three_split_List = np.array_split(permList, 4)\n",
    "    three_split_String = np.array_split(permString, 4)\n",
    "    result1 = []\n",
    "    result2 = []\n",
    "    result3 = []\n",
    "    result4 = []\n",
    "    x = threading.Thread(target=fun1, args=(tuple(three_split_List[0]),tuple(three_split_String[0]), result1))\n",
    "    y = threading.Thread(target=fun1, args=(tuple(three_split_List[1]),tuple(three_split_String[1]), result2))\n",
    "    z = threading.Thread(target=fun1, args=(tuple(three_split_List[2]),tuple(three_split_String[2]), result3))\n",
    "    w = threading.Thread(target=fun1, args=(tuple(three_split_List[3]),tuple(three_split_String[3]), result4))\n",
    "    x.start()\n",
    "    y.start()\n",
    "    z.start()\n",
    "    w.start()\n",
    "    #Joined the threads\n",
    "    #Joined the threads\n",
    "    x.join()\n",
    "    y.join()\n",
    "    z.join()\n",
    "    w.join()\n",
    "    #Perallel Processing with O(n!) input to Time Complexity with O(n)\n",
    "    '''for perm, stri in zip(permList, permString):\n",
    "        #print(stri,\"*\" *5 ,perm)\n",
    "        x=[]\n",
    "        jb = JobTask(*perm)\n",
    "        r = jb.opt_function()\n",
    "        x.append(stri)\n",
    "        #x.extend(perm)\n",
    "        x.append(r)\n",
    "        result.append(x)\n",
    "        del jb'''\n",
    "    \n",
    "    \n",
    "e = time.time()\n",
    "print(\"-----------------------------------------------------------------------\")\n",
    "print(\"Time Taken tO Execute :\")\n",
    "print(e-s, \"Sec\")"
   ]
  },
  {
   "cell_type": "code",
   "execution_count": 15,
   "metadata": {},
   "outputs": [
    {
     "name": "stdout",
     "output_type": "stream",
     "text": [
      "\\/\\/\\/\\/\\/\\/\\/\\/\\/\\/\\/\\/\\/\\/\\/\\/\\/\\/\\/\\/\\/\\/\\/\\/\\/\\/\\/\\/\\/\\/\\/\\/\\/\\/\n",
      "|                        Result LookUp                             |\n",
      "/\\/\\/\\/\\/\\/\\/\\/\\/\\/\\/\\/\\/\\/\\/\\/\\/\\/\\/\\/\\/\\/\\/\\/\\/\\/\\/\\/\\/\\/\\/\\/\\/\\/\\\n",
      "Less then 10 Operations Results (Can or Can not be present)\n",
      "                                             Permutations  Count_of_Operations\n",
      "116758  [1821, 828, 1826, 1000, 1298, 1567, 1356, 744,...                   68\n",
      "76049   [1000, 1356, 721, 1821, 744, 1567, 712m, 1826,...                   68\n",
      "68719   [1821, 1000, 1356, 744, 721, 1567, 828, 1298, ...                   70\n",
      "286255  [1821, 1567, 1298, 1356, 712m, 721, 828, 1000,...                   74\n",
      "2713    [1821, 1298, 1000, 744, 1567, 1356, 828, 721, ...                   74\n",
      "253450  [1821, 1356, 828, 721, 1298, 1000, 744, 1826, ...                   74\n",
      "93627   [1821, 828, 721, 1356, 1298, 712m, 1000, 1567,...                   74\n",
      "225543  [1821, 744, 712m, 1567, 1000, 721, 1356, 828, ...                   76\n",
      "4091    [1821, 1298, 1000, 1567, 1356, 828, 712m, 1826...                   76\n",
      "192015  [1821, 712m, 1567, 1298, 1356, 1000, 744, 721,...                   78\n"
     ]
    }
   ],
   "source": [
    "pd.set_option(\"display.max_columns\", None)\n",
    "\n",
    "\n",
    "dataFrame1 = pd.concat([pd.DataFrame(result1,),pd.DataFrame(result2,),pd.DataFrame(result3,),pd.DataFrame(result4,)])\n",
    "#dataFrame2 = pd.DataFrame(result2,)\n",
    "DF = pd.DataFrame()\n",
    "\n",
    "DF['Permutations'] = dataFrame1[0]\n",
    "DF['Count_of_Operations'] = dataFrame1[1]\n",
    "\n",
    "#print(\"Result in Table formate\")\n",
    "#print(DF.sort_values(by=['Count_of_Operations']))\n",
    "print(\"\\/\\/\\/\\/\\/\\/\\/\\/\\/\\/\\/\\/\\/\\/\\/\\/\\/\\/\\/\\/\\/\\/\\/\\/\\/\\/\\/\\/\\/\\/\\/\\/\\/\\/\")\n",
    "print(\"|                        Result LookUp                             |\")\n",
    "print(\"/\\/\\/\\/\\/\\/\\/\\/\\/\\/\\/\\/\\/\\/\\/\\/\\/\\/\\/\\/\\/\\/\\/\\/\\/\\/\\/\\/\\/\\/\\/\\/\\/\\/\\\\\")\n",
    "print(\"Less then 10 Operations Results (Can or Can not be present)\")\n",
    "print(DF.sort_values(by=['Count_of_Operations']).head(10))\n",
    "#DF.sort_values(by=['Count_of_Operations']).head(1040000).to_csv(\"myFile.csv\")"
   ]
  },
  {
   "cell_type": "code",
   "execution_count": 16,
   "metadata": {},
   "outputs": [
    {
     "name": "stdout",
     "output_type": "stream",
     "text": [
      "<class 'pandas.core.frame.DataFrame'>\n",
      "Int64Index: 3628800 entries, 0 to 907199\n",
      "Data columns (total 2 columns):\n",
      " #   Column               Dtype \n",
      "---  ------               ----- \n",
      " 0   Permutations         object\n",
      " 1   Count_of_Operations  int64 \n",
      "dtypes: int64(1), object(1)\n",
      "memory usage: 83.1+ MB\n"
     ]
    }
   ],
   "source": [
    "DF.info()"
   ]
  },
  {
   "cell_type": "code",
   "execution_count": 36,
   "metadata": {},
   "outputs": [
    {
     "data": {
      "text/plain": [
       "116758    [1821, 828, 1826, 1000, 1298, 1567, 1356, 744, 721, 712m]\n",
       "Name: Permutations, dtype: object"
      ]
     },
     "execution_count": 36,
     "metadata": {},
     "output_type": "execute_result"
    }
   ],
   "source": [
    "pd.set_option('display.max_colwidth',None)\n",
    "DF.sort_values(by=['Count_of_Operations']).head(10)['Permutations'][0:1]"
   ]
  },
  {
   "cell_type": "code",
   "execution_count": 37,
   "metadata": {},
   "outputs": [
    {
     "data": {
      "text/plain": [
       "(907200, 907200, 907200, 907200)"
      ]
     },
     "execution_count": 37,
     "metadata": {},
     "output_type": "execute_result"
    }
   ],
   "source": [
    "len(result1),len(result2),len(result3),len(result4)"
   ]
  },
  {
   "cell_type": "code",
   "execution_count": null,
   "metadata": {},
   "outputs": [],
   "source": [
    "len(result3)\n",
    "pd.concat([pd.DataFrame(result1,),pd.DataFrame(result2,),pd.DataFrame(result3,),pd.DataFrame(result4,)])"
   ]
  },
  {
   "cell_type": "code",
   "execution_count": null,
   "metadata": {},
   "outputs": [],
   "source": []
  },
  {
   "cell_type": "code",
   "execution_count": null,
   "metadata": {},
   "outputs": [],
   "source": [
    "permList = list(permutations(Data.values()))\n",
    "permString = list(permutations(Data.keys()))"
   ]
  },
  {
   "cell_type": "code",
   "execution_count": null,
   "metadata": {},
   "outputs": [],
   "source": [
    "df_Per_Jobs = pd.DataFrame(permString)"
   ]
  },
  {
   "cell_type": "code",
   "execution_count": null,
   "metadata": {},
   "outputs": [],
   "source": [
    "df_Per_Tasks = pd.DataFrame(permList)"
   ]
  },
  {
   "cell_type": "code",
   "execution_count": null,
   "metadata": {},
   "outputs": [],
   "source": [
    "df_Per_Jobs.info()"
   ]
  },
  {
   "cell_type": "code",
   "execution_count": null,
   "metadata": {},
   "outputs": [],
   "source": [
    "df_Per_Tasks.info()"
   ]
  },
  {
   "cell_type": "code",
   "execution_count": null,
   "metadata": {
    "scrolled": true
   },
   "outputs": [],
   "source": [
    "def heap_permutation(data, n):\n",
    "    if n == 1:\n",
    "        print(data)\n",
    "        return\n",
    "    \n",
    "    for i in range(n):\n",
    "        heap_permutation(data, n - 1)\n",
    "        if n % 2 == 0:\n",
    "            data[i], data[n-1] = data[n-1], data[i]\n",
    "        else:\n",
    "            data[0], data[n-1] = data[n-1], data[0]\n",
    "    \n",
    "if __name__ == '__main__':\n",
    "    data = [1, 2, 3, 4]\n",
    "    heap_permutation(data, len(data))"
   ]
  },
  {
   "cell_type": "code",
   "execution_count": null,
   "metadata": {},
   "outputs": [],
   "source": [
    "q = deque(maxlen=36)"
   ]
  },
  {
   "cell_type": "code",
   "execution_count": null,
   "metadata": {},
   "outputs": [],
   "source": [
    "q.extend(['0.1uF 50V SMD CERAMIC', '0E 0.25W 1% SMD RESISTOR', '1.2K 0.25W 1% SMD RESISTOR', '100E 0.25W 1% SMD RESISTOR', '100K 0.25W 1% SMD RESISTOR', '10K 0.25W 1% SMD RESISTOR', '150K 0.25W 1% SMD RESISTOR', '1K 0.25W 1% SMD RESISTOR', '1M 0.25W 1% SMD RESISTOR', '220K 0.25W 1% SMD RESISTOR', '240E 0.25W 1% SMD RESISTOR', '2K 0.25W 1% SMD RESISTOR', '3.3K 0.25W 1% SMD RESISTOR', '3.9M 0.25W 1206 1% SMD RESISTOR', '330E 0.25W 1% SMD RESISTOR', '33E 0.25W 1% SMD RESISTOR', '33NF 50V SMD CERAMIC CAPACITOR', '36K 0.25W 1% SMD RESISTOR', '4148 GLASS SMD DIODE', '470E 0.25W 1% SMD RESISTOR', '470K 0.25W 1% SMD RESISTOR', '47E 0.25W 1% SMD RESISTOR', '47K 0.25W 1% SMD RESISTOR', '5.1E 0.25W 1% SMD RESISTOR', '5.1K 0.25W 1% SMD RESISTOR', '5.6K 0.25W 1% SMD RESISTOR', '6.8E 0.25W 1% SMD RESISTOR', '6.8K 0.25W 1% SMD RESISTOR', '68K 0.25W 1% SMD RESISTOR', '8.2K 0.25W 1% SMD RESISTOR', 'BC846 SOT23 NPN SMD TRANSISTOR', 'CMMT591 CDIL SMD TRANSISTOR', 'KP1010 SMD OPTO COUPLER', 'TL431 SO8 PACK PROG. VOL. REF.'])\n"
   ]
  },
  {
   "cell_type": "code",
   "execution_count": null,
   "metadata": {},
   "outputs": [],
   "source": [
    "q"
   ]
  },
  {
   "cell_type": "code",
   "execution_count": null,
   "metadata": {},
   "outputs": [],
   "source": [
    "[1,2,3,4,5,6] in q"
   ]
  },
  {
   "cell_type": "code",
   "execution_count": null,
   "metadata": {
    "scrolled": true
   },
   "outputs": [],
   "source": [
    "l = list(map(lambda x:x in q, ['0.1uF 50V SMD CERAMIC', '0E 0.25W 1% SMD RESISTOR', '1.2K 0.25W 1% SMD RESISTOR', '100E 0.25W 1% SMD RESISTOR', '100K 0.25W 1% SMD RESISTOR', '10K 0.25W 1% SMD RESISTOR', '150K 0.25W 1% SMD RESISTOR', '1K 0.25W 1% SMD RESISTOR', '1M 0.25W 1% SMD RESISTOR', '220K 0.25W 1% SMD RESISTOR', '240E 0.25W 1% SMD RESISTOR', '2K 0.25W 1% SMD RESISTOR', '3.3K 0.25W 1% SMD RESISTOR', '3.9M 0.25W 1206 1% SMD RESISTOR', '330E 0.25W 1% SMD RESISTOR', '33E 0.25W 1% SMD RESISTOR', '33NF 50V SMD CERAMIC CAPACITOR', '36K 0.25W 1% SMD RESISTOR', '4148 GLASS SMD DIODE', '470E 0.25W 1% SMD RESISTOR', '470K 0.25W 1% SMD RESISTOR', '47E 0.25W 1% SMD RESISTOR', '47K 0.25W 1% SMD RESISTOR', '5.1E 0.25W 1% SMD RESISTOR', '5.1K 0.25W 1% SMD RESISTOR', '5.6K 0.25W 1% SMD RESISTOR', '6.8E 0.25W 1% SMD RESISTOR', '6.8K 0.25W 1% SMD RESISTOR', '68K 0.25W 1% SMD RESISTOR', '8.2K 0.25W 1% SMD RESISTOR', 'BC846 SOT23 NPN SMD TRANSISTOR', 'CMMT591 CDIL SMD TRANSISTOR', 'KP1010 SMD OPTO COUPLER', 'TL431 SO8 PACK PROG. VOL. REF.']))\n",
    "#l"
   ]
  },
  {
   "cell_type": "code",
   "execution_count": null,
   "metadata": {},
   "outputs": [],
   "source": []
  },
  {
   "cell_type": "code",
   "execution_count": null,
   "metadata": {},
   "outputs": [],
   "source": [
    "'''for j in ['0.1uF 50V SMD CERAMIC', '0E 0.25W 1% SMD RESISTOR', '1.2K 0.25W 1% SMD RESISTOR', '100E 0.25W 1% SMD RESISTOR', '100K 0.25W 1% SMD RESISTOR', '10K 0.25W 1% SMD RESISTOR', '150K 0.25W 1% SMD RESISTOR', '1K 0.25W 1% SMD RESISTOR', '1M 0.25W 1% SMD RESISTOR', '220K 0.25W 1% SMD RESISTOR', '240E 0.25W 1% SMD RESISTOR', '2K 0.25W 1% SMD RESISTOR', '3.3K 0.25W 1% SMD RESISTOR', '3.9M 0.25W 1206 1% SMD RESISTOR', '330E 0.25W 1% SMD RESISTOR', '33E 0.25W 1% SMD RESISTOR', '33NF 50V SMD CERAMIC CAPACITOR', '36K 0.25W 1% SMD RESISTOR', '4148 GLASS SMD DIODE', '470E 0.25W 1% SMD RESISTOR', '470K 0.25W 1% SMD RESISTOR', '47E 0.25W 1% SMD RESISTOR', '47K 0.25W 1% SMD RESISTOR', '5.1E 0.25W 1% SMD RESISTOR', '5.1K 0.25W 1% SMD RESISTOR', '5.6K 0.25W 1% SMD RESISTOR', '6.8E 0.25W 1% SMD RESISTOR', '6.8K 0.25W 1% SMD RESISTOR', '68K 0.25W 1% SMD RESISTOR', '8.2K 0.25W 1% SMD RESISTOR', 'BC846 SOT23 NPN SMD TRANSISTOR', 'CMMT591 CDIL SMD TRANSISTOR', 'KP1010 SMD OPTO COUPLER', 'TL431 SO8 PACK PROG. VOL. REF.']:\n",
    "    if j not in list(q):\n",
    "        if len(q) < 36:\n",
    "            q.append(j)\n",
    "            \n",
    "                #print(j)\n",
    "                #print('Queue',list(que))\n",
    "        else:\n",
    "            q.popleft()\n",
    "            q.append(j)\n",
    "            \n",
    "                #print(j)\n",
    "                #print('Queue',list(que))\n",
    "    else:\n",
    "        print(\"All good\")\n",
    "'''"
   ]
  },
  {
   "cell_type": "code",
   "execution_count": null,
   "metadata": {},
   "outputs": [],
   "source": [
    "len(permString[:len(permString)//2])"
   ]
  },
  {
   "cell_type": "code",
   "execution_count": null,
   "metadata": {},
   "outputs": [],
   "source": [
    "(permList[:len(permString)//2])"
   ]
  },
  {
   "cell_type": "code",
   "execution_count": null,
   "metadata": {},
   "outputs": [],
   "source": [
    "three_split = np.array_split(a_list, 3)\n",
    "for array in three_split:\n",
    "    print(list(array))"
   ]
  },
  {
   "cell_type": "code",
   "execution_count": null,
   "metadata": {},
   "outputs": [],
   "source": [
    "three_split_List = np.array_split(permList, 3)\n",
    "three_split_String = np.array_split(permString, 3)"
   ]
  },
  {
   "cell_type": "code",
   "execution_count": null,
   "metadata": {},
   "outputs": [],
   "source": [
    "for i, j in zip(tuple(three_split_List[0]),tuple(three_split_String[0])):\n",
    "    print(i,j)"
   ]
  },
  {
   "cell_type": "code",
   "execution_count": null,
   "metadata": {},
   "outputs": [],
   "source": []
  },
  {
   "cell_type": "code",
   "execution_count": null,
   "metadata": {},
   "outputs": [],
   "source": []
  }
 ],
 "metadata": {
  "kernelspec": {
   "display_name": "Python 3",
   "language": "python",
   "name": "python3"
  },
  "language_info": {
   "codemirror_mode": {
    "name": "ipython",
    "version": 3
   },
   "file_extension": ".py",
   "mimetype": "text/x-python",
   "name": "python",
   "nbconvert_exporter": "python",
   "pygments_lexer": "ipython3",
   "version": "3.7.6"
  }
 },
 "nbformat": 4,
 "nbformat_minor": 4
}
