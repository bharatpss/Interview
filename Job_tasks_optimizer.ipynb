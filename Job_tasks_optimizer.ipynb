{
 "cells": [
  {
   "cell_type": "code",
   "execution_count": null,
   "metadata": {},
   "outputs": [],
   "source": [
    "import time\n",
    "import pandas as pd\n",
    "import tkinter as tk\n",
    "from tkinter import filedialog\n",
    "from itertools import permutations\n",
    "from collections import deque\n",
    "import numpy as np"
   ]
  },
  {
   "cell_type": "code",
   "execution_count": null,
   "metadata": {},
   "outputs": [],
   "source": [
    "global que\n",
    "\n",
    "print(\"------------------------------------------------------------------------\")\n",
    "print(\"                    Job Tasks Optimization Program:                     \")\n",
    "print(\"------------------------------------------------------------------------\")\n",
    "print(\"\\n\")\n",
    "print(\"------------------------------------------------------------------------\")\n",
    "print(\"|          Now this Program can Optimize N number of Jobs.             |\")\n",
    "print(\"|              Please Select the xls format file:                      |\")\n",
    "print(\"------------------------------------------------------------------------\")\n",
    "root = tk.Tk()\n",
    "root.withdraw()\n",
    "\n",
    "file_path = filedialog.askopenfilename()\n",
    "\n",
    "#print(pd.read_csv(file_path).head())\n",
    "file = pd.ExcelFile(file_path )\n",
    "\n",
    "\n",
    "\n",
    "# to read all sheets to a map\n",
    "Data = {}\n",
    "for sheet_name in file.sheet_names:\n",
    "    Data[sheet_name] = file.parse(sheet_name, header=None, usecols=[0], index_col=False).iloc[:,0].to_list()\n",
    "\n",
    "#print(file.parse('A', header=None, usecols=[0], index_col=False).iloc[:,0].to_list())\n",
    "\n",
    "\n",
    "    \n",
    "\n",
    "'''print(Data)\n",
    "print(len(Data))\n",
    "'''\n",
    "for key,val in Data.items():\n",
    "    print(key, \"=>\", len(val)) \n",
    "    \n",
    "print(\"------------------------------------------------------------------------\")\n",
    "l =[]\n",
    "#newlist = map(str.upper, oldlist)\n",
    "for i in Data.values():\n",
    "    l.extend(i)\n",
    "    \n",
    "print(\"Unique count of tasks\", len(set(l)))\n",
    "print(\"------------------------------------------------------------------------\")"
   ]
  },
  {
   "cell_type": "code",
   "execution_count": null,
   "metadata": {},
   "outputs": [],
   "source": [
    "max_size = int(input(\"Enter Feeder size (Queue Size) :\"))\n",
    "que = deque(maxlen= max_size)\n",
    "print(\"\\n\")"
   ]
  },
  {
   "cell_type": "code",
   "execution_count": null,
   "metadata": {},
   "outputs": [],
   "source": [
    "class JobTask():\n",
    "    \"This is Job Task Management class\"\n",
    "    que.clear()\n",
    "    count = 0\n",
    "    def __init__(self,*args):\n",
    "        self.args = args\n",
    "    \n",
    "    def cal(self,z):\n",
    "        # From previous funtion of O(n2)\n",
    "        for j in z:\n",
    "            if j not in list(que):\n",
    "                if len(que) < max_size:\n",
    "                    que.append(j)\n",
    "                    self.count +=1\n",
    "                #print(j)\n",
    "                #print('Queue',list(que))\n",
    "                else:\n",
    "                    que.popleft()\n",
    "                    que.append(j)\n",
    "                    self.count +=2\n",
    "                #print(j)\n",
    "                #print('Queue',list(que))\n",
    "            else:\n",
    "                pass\n",
    "        \n",
    "        return self.count\n",
    "    \n",
    "    def opt_function(self, *args):\n",
    "        que.extend(self.args[0])\n",
    "        #complexsity O(n) depending on Argument length.\n",
    "        for j in self.args[1:len(self.args)]:\n",
    "            self.cal(j)\n",
    "        \n",
    "        return self.count"
   ]
  },
  {
   "cell_type": "code",
   "execution_count": null,
   "metadata": {},
   "outputs": [],
   "source": [
    "import threading\n",
    "global result1, result2, result3\n",
    "\n",
    "def fun1(permList,permString):\n",
    "    for perm, stri in zip(permList, permString):\n",
    "        #print(\"thread 1\")#stri,\"*\" *5 ,perm)\n",
    "        x=[]\n",
    "        jb = JobTask(*perm)\n",
    "        r = jb.opt_function()\n",
    "        x.append(stri)\n",
    "        #x.extend(perm)\n",
    "        x.append(r)\n",
    "        result1.append(x)\n",
    "        del jb\n",
    "        \n",
    "    return result1\n",
    "\n",
    "def fun2(permList,permString):\n",
    "    for perm, stri in zip(permList, permString):\n",
    "        #print(\"thread 2\")#stri,\"*\" *5 ,perm)\n",
    "        x=[]\n",
    "        bj = JobTask(*perm)\n",
    "        r = bj.opt_function()\n",
    "        x.append(stri)\n",
    "        #x.extend(perm)\n",
    "        x.append(r)\n",
    "        result2.append(x)\n",
    "        del bj\n",
    "        \n",
    "    return result2\n",
    "\n",
    "def fun3(permList,permString):\n",
    "    for perm, stri in zip(permList, permString):\n",
    "        #print(\"thread 2\")#stri,\"*\" *5 ,perm)\n",
    "        x=[]\n",
    "        b = JobTask(*perm)\n",
    "        r = b.opt_function()\n",
    "        x.append(stri)\n",
    "        #x.extend(perm)\n",
    "        x.append(r)\n",
    "        result3.append(x)\n",
    "        del b\n",
    "        \n",
    "    return result3"
   ]
  },
  {
   "cell_type": "code",
   "execution_count": null,
   "metadata": {},
   "outputs": [],
   "source": [
    "if __name__ == \"__main__\":\n",
    "    s = time.time()\n",
    "    permList = list(permutations(Data.values()))\n",
    "    permString = list(permutations(Data.keys()))\n",
    "    three_split_List = np.array_split(permList, 3)\n",
    "    three_split_String = np.array_split(permString, 3)\n",
    "    result1 = []\n",
    "    result2 = []\n",
    "    result3 = []\n",
    "    x = threading.Thread(target=fun1(three_split_List[0],three_split_String[0]))\n",
    "    y = threading.Thread(target=fun2(three_split_List[1],three_split_String[1]))\n",
    "    z = threading.Thread(target=fun3(three_split_List[2],three_split_String[2]))\n",
    "    x.start()\n",
    "    y.start()\n",
    "    z.start()\n",
    "    #Joined the threads\n",
    "    #x.join()\n",
    "    #y.join()\n",
    "    \n",
    "    #Perallel Processing with O(n!) input to Time Complexity with O(n)\n",
    "    '''for perm, stri in zip(permList, permString):\n",
    "        #print(stri,\"*\" *5 ,perm)\n",
    "        x=[]\n",
    "        jb = JobTask(*perm)\n",
    "        r = jb.opt_function()\n",
    "        x.append(stri)\n",
    "        #x.extend(perm)\n",
    "        x.append(r)\n",
    "        result.append(x)\n",
    "        del jb'''\n",
    "    \n",
    "    \n",
    "e = time.time()\n",
    "print(\"-----------------------------------------------------------------------\")\n",
    "print(\"Time Taken tO Execute :\")\n",
    "print(e-s, \"Sec\")"
   ]
  },
  {
   "cell_type": "code",
   "execution_count": null,
   "metadata": {},
   "outputs": [],
   "source": [
    "pd.set_option(\"display.max_columns\", None)\n",
    "\n",
    "\n",
    "dataFrame1 = pd.concat([pd.DataFrame(result1,),pd.DataFrame(result2,),pd.DataFrame(result3,)])\n",
    "dataFrame2 = pd.DataFrame(result2,)\n",
    "DF = pd.DataFrame()\n",
    "\n",
    "DF['Permutations'] = dataFrame1[0]\n",
    "DF['Count_of_Operations'] = dataFrame1[1]\n",
    "\n",
    "#print(\"Result in Table formate\")\n",
    "#print(DF.sort_values(by=['Count_of_Operations']))\n",
    "print(\"\\/\\/\\/\\/\\/\\/\\/\\/\\/\\/\\/\\/\\/\\/\\/\\/\\/\\/\\/\\/\\/\\/\\/\\/\\/\\/\\/\\/\\/\\/\\/\\/\\/\\/\")\n",
    "print(\"|                        Result LookUp                             |\")\n",
    "print(\"/\\/\\/\\/\\/\\/\\/\\/\\/\\/\\/\\/\\/\\/\\/\\/\\/\\/\\/\\/\\/\\/\\/\\/\\/\\/\\/\\/\\/\\/\\/\\/\\/\\/\\\\\")\n",
    "print(\"Less then 10 Operations Results (Can or Can not be present)\")\n",
    "print(DF.sort_values(by=['Count_of_Operations']).head(10))\n",
    "DF.to_csv(\"myFile.csv\")"
   ]
  },
  {
   "cell_type": "code",
   "execution_count": null,
   "metadata": {},
   "outputs": [],
   "source": [
    "DF.info()"
   ]
  },
  {
   "cell_type": "code",
   "execution_count": null,
   "metadata": {},
   "outputs": [],
   "source": [
    "#result2"
   ]
  },
  {
   "cell_type": "code",
   "execution_count": null,
   "metadata": {},
   "outputs": [],
   "source": [
    "len(result1)"
   ]
  },
  {
   "cell_type": "code",
   "execution_count": null,
   "metadata": {},
   "outputs": [],
   "source": [
    "#permList = list(permutations(Data.values()))\n",
    "#permString = list(permutations(Data.keys()))\n",
    "#list(zip(permList[:len(permList)], permString[:len(permList)]))"
   ]
  },
  {
   "cell_type": "code",
   "execution_count": null,
   "metadata": {},
   "outputs": [],
   "source": [
    "import numpy as np\n",
    "three_split = np.array_split(permList, 3)[1]\n",
    "len(three_split)"
   ]
  },
  {
   "cell_type": "code",
   "execution_count": null,
   "metadata": {
    "scrolled": true
   },
   "outputs": [],
   "source": [
    "for i , j in zip(three_split_List[2],three_split_String[2]):\n",
    "    print(i,j)"
   ]
  },
  {
   "cell_type": "code",
   "execution_count": null,
   "metadata": {},
   "outputs": [],
   "source": []
  }
 ],
 "metadata": {
  "kernelspec": {
   "display_name": "Python 3",
   "language": "python",
   "name": "python3"
  },
  "language_info": {
   "codemirror_mode": {
    "name": "ipython",
    "version": 3
   },
   "file_extension": ".py",
   "mimetype": "text/x-python",
   "name": "python",
   "nbconvert_exporter": "python",
   "pygments_lexer": "ipython3",
   "version": "3.7.7"
  }
 },
 "nbformat": 4,
 "nbformat_minor": 4
}
